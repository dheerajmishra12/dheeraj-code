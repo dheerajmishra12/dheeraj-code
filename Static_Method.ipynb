{
  "nbformat": 4,
  "nbformat_minor": 0,
  "metadata": {
    "colab": {
      "provenance": []
    },
    "kernelspec": {
      "name": "python3",
      "display_name": "Python 3"
    },
    "language_info": {
      "name": "python"
    }
  },
  "cells": [
    {
      "cell_type": "code",
      "execution_count": null,
      "metadata": {
        "id": "kYPsc01FX00q"
      },
      "outputs": [],
      "source": [
        "class pwskills :\n",
        "\n",
        "  def student_details(self , name , mail_id , number) :\n",
        "    print(name , mail_id , number)"
      ]
    },
    {
      "cell_type": "code",
      "source": [
        "pw = pwskills()"
      ],
      "metadata": {
        "id": "Rk3j8Md3YaVo"
      },
      "execution_count": null,
      "outputs": []
    },
    {
      "cell_type": "code",
      "source": [
        "pw.student_details(\"dhee\" , \"dhee@gmail.com\" , 9876456534)"
      ],
      "metadata": {
        "colab": {
          "base_uri": "https://localhost:8080/"
        },
        "id": "CQoEbUgNYjxn",
        "outputId": "0f5e1b7a-0a19-43ee-f988-7a30b4d5436d"
      },
      "execution_count": null,
      "outputs": [
        {
          "output_type": "stream",
          "name": "stdout",
          "text": [
            "dhee dhee@gmail.com 9876456534\n"
          ]
        }
      ]
    },
    {
      "cell_type": "code",
      "source": [
        "class pwskills1 :\n",
        "\n",
        "  def student_details(self , name ,mail_id , number) :\n",
        "    print(name , mail_id , number)\n",
        "\n",
        "  @staticmethod\n",
        "  def mentor_class(list_mentor) :\n",
        "    print(list_mentor)\n",
        "\n",
        "  def mentor(self , mentor_list) :\n",
        "    print(mentor_list)"
      ],
      "metadata": {
        "id": "tpeweKIeY4cI"
      },
      "execution_count": null,
      "outputs": []
    },
    {
      "cell_type": "code",
      "source": [
        "pwskills1.mentor_class([\"sudh\" , \"krish\"])"
      ],
      "metadata": {
        "colab": {
          "base_uri": "https://localhost:8080/"
        },
        "id": "OlE3YZfVbxFQ",
        "outputId": "be0a1448-bd9d-4c09-e4a1-10ce3c766fa5"
      },
      "execution_count": null,
      "outputs": [
        {
          "output_type": "stream",
          "name": "stdout",
          "text": [
            "['sudh', 'krish']\n"
          ]
        }
      ]
    },
    {
      "cell_type": "code",
      "source": [
        "stu1  = pwskills1()"
      ],
      "metadata": {
        "id": "Zz-kKp0TcD7T"
      },
      "execution_count": null,
      "outputs": []
    },
    {
      "cell_type": "code",
      "source": [
        "stu2 = pwskills1()"
      ],
      "metadata": {
        "id": "Jt4JTwbIcIUD"
      },
      "execution_count": null,
      "outputs": []
    },
    {
      "cell_type": "code",
      "source": [
        "stu3 = pwskills1()"
      ],
      "metadata": {
        "id": "pb6r8LBRcOi9"
      },
      "execution_count": null,
      "outputs": []
    },
    {
      "cell_type": "code",
      "source": [
        "stu1.mentor([\"sudh\" , \"krish\"])"
      ],
      "metadata": {
        "colab": {
          "base_uri": "https://localhost:8080/"
        },
        "id": "Vkm48ZHGcSuG",
        "outputId": "70f5b34f-4f41-4b5c-b66e-256b560c2adb"
      },
      "execution_count": null,
      "outputs": [
        {
          "output_type": "stream",
          "name": "stdout",
          "text": [
            "['sudh', 'krish']\n"
          ]
        }
      ]
    },
    {
      "cell_type": "code",
      "source": [
        "class pwskills2 :\n",
        "\n",
        "    def student_details(self , name , mail_id , number) :\n",
        "        print(name , mail_id, number)\n",
        "\n",
        "    @staticmethod\n",
        "    def mentor_mail_id(maild_id_mentor) :\n",
        "        print(maild_id_mentor)\n",
        "\n",
        "    @staticmethod\n",
        "    def mentor_class(list_mentor) :\n",
        "        pwskills2.mentor_mail_id([\"sudh@gmail.com\" , \"krish@gmail.com\"])\n",
        "        print(list_mentor)\n",
        "\n",
        "    @classmethod\n",
        "    def class_name(cls):\n",
        "        cls.mentor_class([\"sudh\" , \"krish\"])\n",
        "\n",
        "\n",
        "\n",
        "    def mentor(self ,mentor_list):\n",
        "        print(mentor_list)\n",
        "        self.mentor_class([\"krish\" , \"sudh\"])"
      ],
      "metadata": {
        "id": "mahYMzwDcgyF"
      },
      "execution_count": null,
      "outputs": []
    },
    {
      "cell_type": "code",
      "source": [
        "pwskills2.mentor_class([\"krish\" , \"sudh\"])"
      ],
      "metadata": {
        "colab": {
          "base_uri": "https://localhost:8080/"
        },
        "id": "jv3EGPspfF4f",
        "outputId": "8372cafa-bab9-42b6-efb1-abc85e8598e8"
      },
      "execution_count": null,
      "outputs": [
        {
          "output_type": "stream",
          "name": "stdout",
          "text": [
            "['sudh@gmail.com', 'krish@gmail.com']\n",
            "['krish', 'sudh']\n"
          ]
        }
      ]
    },
    {
      "cell_type": "code",
      "source": [
        "pwskills2.class_name()"
      ],
      "metadata": {
        "colab": {
          "base_uri": "https://localhost:8080/"
        },
        "id": "8tqXqmyYfUXB",
        "outputId": "64bab023-a1d9-46e4-ea84-7a5ff1b4f42e"
      },
      "execution_count": null,
      "outputs": [
        {
          "output_type": "stream",
          "name": "stdout",
          "text": [
            "['sudh@gmail.com', 'krish@gmail.com']\n",
            "['sudh', 'krish']\n"
          ]
        }
      ]
    },
    {
      "cell_type": "code",
      "source": [
        "pw = pwskills2()"
      ],
      "metadata": {
        "id": "2XpEshYwfhvn"
      },
      "execution_count": null,
      "outputs": []
    },
    {
      "cell_type": "code",
      "source": [
        "pw.mentor([\"krish\" ,\"sudh\"])"
      ],
      "metadata": {
        "colab": {
          "base_uri": "https://localhost:8080/"
        },
        "id": "S0E3AnVgfxi4",
        "outputId": "c26305c7-2aea-4d5f-921f-d0c72dafbf01"
      },
      "execution_count": null,
      "outputs": [
        {
          "output_type": "stream",
          "name": "stdout",
          "text": [
            "['krish', 'sudh']\n",
            "['sudh@gmail.com', 'krish@gmail.com']\n",
            "['krish', 'sudh']\n"
          ]
        }
      ]
    },
    {
      "cell_type": "code",
      "source": [],
      "metadata": {
        "id": "RXNoOhwZf4eg"
      },
      "execution_count": null,
      "outputs": []
    }
  ]
}