{
  "nbformat": 4,
  "nbformat_minor": 0,
  "metadata": {
    "colab": {
      "provenance": []
    },
    "kernelspec": {
      "name": "python3",
      "display_name": "Python 3"
    },
    "language_info": {
      "name": "python"
    }
  },
  "cells": [
    {
      "cell_type": "markdown",
      "source": [
        "Inheritance allows us to define a class that inherits all the methods and properties from another class. Parent class is the class being inherited from, also called base class. Child class is the class that inherits from another class, also called derived class."
      ],
      "metadata": {
        "id": "pYsvKqqRIy7R"
      }
    },
    {
      "cell_type": "code",
      "source": [
        "class parent :\n",
        "\n",
        "  def test_parent(self):\n",
        "    print(\"This is my parent class\")"
      ],
      "metadata": {
        "id": "TkUpH16BJYPx"
      },
      "execution_count": null,
      "outputs": []
    },
    {
      "cell_type": "code",
      "execution_count": null,
      "metadata": {
        "id": "AD2H_JoTGkQK"
      },
      "outputs": [],
      "source": [
        "class child(parent) :\n",
        "  pass"
      ]
    },
    {
      "cell_type": "code",
      "source": [
        "child_obj = child()"
      ],
      "metadata": {
        "id": "DS4zVIAgKX4v"
      },
      "execution_count": null,
      "outputs": []
    },
    {
      "cell_type": "code",
      "source": [
        "child_obj.test_parent()"
      ],
      "metadata": {
        "colab": {
          "base_uri": "https://localhost:8080/"
        },
        "id": "0spQiSf5Kddu",
        "outputId": "3333814f-068a-45e0-a9fb-d9efdaffcdc7"
      },
      "execution_count": null,
      "outputs": [
        {
          "output_type": "stream",
          "name": "stdout",
          "text": [
            "This is my parent class\n"
          ]
        }
      ]
    },
    {
      "cell_type": "code",
      "source": [
        "# Multilevel Inheritence"
      ],
      "metadata": {
        "id": "e4ZcFZScKnOm"
      },
      "execution_count": null,
      "outputs": []
    },
    {
      "cell_type": "code",
      "source": [
        "class class1 :\n",
        "  def test_class1(self) :\n",
        "    print(\"This is my class1\")"
      ],
      "metadata": {
        "id": "2zngrPYeMIZT"
      },
      "execution_count": null,
      "outputs": []
    },
    {
      "cell_type": "code",
      "source": [
        "class class2(class1) :\n",
        "  def test_class2(self) :\n",
        "    print(\"This is my class 2\")"
      ],
      "metadata": {
        "id": "q-p1W8ilMqzG"
      },
      "execution_count": null,
      "outputs": []
    },
    {
      "cell_type": "code",
      "source": [
        "class class3(class2) :\n",
        "  def test_class3(self) :\n",
        "    print(\"This is my class3\")"
      ],
      "metadata": {
        "id": "UpWSJ-X-M7ws"
      },
      "execution_count": null,
      "outputs": []
    },
    {
      "cell_type": "code",
      "source": [
        "obj_class3 = class3()"
      ],
      "metadata": {
        "id": "SfaA5-dRNRRf"
      },
      "execution_count": null,
      "outputs": []
    },
    {
      "cell_type": "code",
      "source": [
        "obj_class3.test_class1()"
      ],
      "metadata": {
        "colab": {
          "base_uri": "https://localhost:8080/"
        },
        "id": "_grEZMu2NbWk",
        "outputId": "5e9934d5-08c4-4790-bcbc-e2c9eb381c9a"
      },
      "execution_count": null,
      "outputs": [
        {
          "output_type": "stream",
          "name": "stdout",
          "text": [
            "This is my class1\n"
          ]
        }
      ]
    },
    {
      "cell_type": "code",
      "source": [
        "obj_class3.test_class2()"
      ],
      "metadata": {
        "colab": {
          "base_uri": "https://localhost:8080/"
        },
        "id": "HVodcJicNhBG",
        "outputId": "ec7933bd-dffa-4b3b-8fe0-86596be91bfe"
      },
      "execution_count": null,
      "outputs": [
        {
          "output_type": "stream",
          "name": "stdout",
          "text": [
            "This is my class 2\n"
          ]
        }
      ]
    },
    {
      "cell_type": "code",
      "source": [
        "obj_class3.test_class3()"
      ],
      "metadata": {
        "colab": {
          "base_uri": "https://localhost:8080/"
        },
        "id": "nK5HDfDzNrkT",
        "outputId": "208a8f76-e33b-4b78-ff0e-84cf08dc764b"
      },
      "execution_count": null,
      "outputs": [
        {
          "output_type": "stream",
          "name": "stdout",
          "text": [
            "This is my class3\n"
          ]
        }
      ]
    },
    {
      "cell_type": "code",
      "source": [
        "# Multiple Inheritence"
      ],
      "metadata": {
        "id": "3CMEa6N0N1j0"
      },
      "execution_count": null,
      "outputs": []
    },
    {
      "cell_type": "code",
      "source": [
        "class class1 :\n",
        "  def test_class1(self) :\n",
        "    print(\"This is my class1\")"
      ],
      "metadata": {
        "id": "l674lUfhQedF"
      },
      "execution_count": null,
      "outputs": []
    },
    {
      "cell_type": "code",
      "source": [
        "class class2 :\n",
        "  def test_class2(self) :\n",
        "    print(\"This is my class2\")"
      ],
      "metadata": {
        "id": "o8F34ENUQwtO"
      },
      "execution_count": null,
      "outputs": []
    },
    {
      "cell_type": "code",
      "source": [
        "class class3 (class1 , class2) :\n",
        "  pass"
      ],
      "metadata": {
        "id": "pjYu-jjKQ-_k"
      },
      "execution_count": null,
      "outputs": []
    },
    {
      "cell_type": "code",
      "source": [
        "object_class3 = class3()"
      ],
      "metadata": {
        "id": "eo-FEW2eRHDA"
      },
      "execution_count": null,
      "outputs": []
    },
    {
      "cell_type": "code",
      "source": [
        "object_class3.test_class1()"
      ],
      "metadata": {
        "colab": {
          "base_uri": "https://localhost:8080/"
        },
        "id": "AgBj8XSmRd5Q",
        "outputId": "de408572-40e3-40f5-9fba-8930fe17068b"
      },
      "execution_count": null,
      "outputs": [
        {
          "output_type": "stream",
          "name": "stdout",
          "text": [
            "This is my class1\n"
          ]
        }
      ]
    },
    {
      "cell_type": "code",
      "source": [
        "object_class3.test_class2()"
      ],
      "metadata": {
        "colab": {
          "base_uri": "https://localhost:8080/"
        },
        "id": "KTnpU8KsR8dX",
        "outputId": "9c189270-ff18-4648-b9ef-028594dea30c"
      },
      "execution_count": null,
      "outputs": [
        {
          "output_type": "stream",
          "name": "stdout",
          "text": [
            "This is my class2\n"
          ]
        }
      ]
    },
    {
      "cell_type": "code",
      "source": [],
      "metadata": {
        "id": "WEleeWOzSCX6"
      },
      "execution_count": null,
      "outputs": []
    }
  ]
}