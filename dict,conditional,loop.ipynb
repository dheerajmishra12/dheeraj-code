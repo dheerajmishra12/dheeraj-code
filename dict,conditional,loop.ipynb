{
  "nbformat": 4,
  "nbformat_minor": 0,
  "metadata": {
    "colab": {
      "provenance": []
    },
    "kernelspec": {
      "name": "python3",
      "display_name": "Python 3"
    },
    "language_info": {
      "name": "python"
    }
  },
  "cells": [
    {
      "cell_type": "code",
      "execution_count": null,
      "metadata": {
        "id": "9ypgF39sFUVM"
      },
      "outputs": [],
      "source": [
        "d = {} # dictionary works on key value pair"
      ]
    },
    {
      "cell_type": "code",
      "source": [
        "type (d)"
      ],
      "metadata": {
        "colab": {
          "base_uri": "https://localhost:8080/"
        },
        "id": "olhHWtDcInOf",
        "outputId": "cc6d9576-fdaf-42ac-b716-5369b6d8bd69"
      },
      "execution_count": null,
      "outputs": [
        {
          "output_type": "execute_result",
          "data": {
            "text/plain": [
              "dict"
            ]
          },
          "metadata": {},
          "execution_count": 2
        }
      ]
    },
    {
      "cell_type": "code",
      "source": [
        "d1 = {\"key\" : \"sudh\"} # key is unique"
      ],
      "metadata": {
        "id": "ELKGuTzqIpZ_"
      },
      "execution_count": null,
      "outputs": []
    },
    {
      "cell_type": "code",
      "source": [
        "d1"
      ],
      "metadata": {
        "colab": {
          "base_uri": "https://localhost:8080/"
        },
        "id": "unMGMF0wJbFN",
        "outputId": "000539b4-74da-42fa-f54c-bf6165c9b3ba"
      },
      "execution_count": null,
      "outputs": [
        {
          "output_type": "execute_result",
          "data": {
            "text/plain": [
              "{'key': 'sudh'}"
            ]
          },
          "metadata": {},
          "execution_count": 5
        }
      ]
    },
    {
      "cell_type": "code",
      "source": [
        "d2 = {\"name\":\"dheeraj\",\"email\":\"dm@gmail.com\",\"number\":8873714003}"
      ],
      "metadata": {
        "id": "pOZjKN5MJhTE"
      },
      "execution_count": null,
      "outputs": []
    },
    {
      "cell_type": "code",
      "source": [
        "d2"
      ],
      "metadata": {
        "colab": {
          "base_uri": "https://localhost:8080/"
        },
        "id": "TrWGztLMKaGT",
        "outputId": "d3c7e42b-3af4-4aef-f814-836de053cd29"
      },
      "execution_count": null,
      "outputs": [
        {
          "output_type": "execute_result",
          "data": {
            "text/plain": [
              "{'name': 'dheeraj', 'email': 'dm@gmail.com', 'number': 8873714003}"
            ]
          },
          "metadata": {},
          "execution_count": 7
        }
      ]
    },
    {
      "cell_type": "code",
      "source": [
        "d3 = {234 : \"sudh\",\"_war\":\"kumar\",True : 24345} # not use special character in key"
      ],
      "metadata": {
        "id": "bPcKv_ZYKbn9"
      },
      "execution_count": null,
      "outputs": []
    },
    {
      "cell_type": "code",
      "source": [
        "d3"
      ],
      "metadata": {
        "colab": {
          "base_uri": "https://localhost:8080/"
        },
        "id": "1z2TZ9J8Lzgr",
        "outputId": "5d3e21c2-0a50-4021-ef05-2e95e6faed6c"
      },
      "execution_count": null,
      "outputs": [
        {
          "output_type": "execute_result",
          "data": {
            "text/plain": [
              "{234: 'sudh', '_war': 'kumar', True: 24345}"
            ]
          },
          "metadata": {},
          "execution_count": 10
        }
      ]
    },
    {
      "cell_type": "code",
      "source": [
        "d3[234]"
      ],
      "metadata": {
        "colab": {
          "base_uri": "https://localhost:8080/",
          "height": 35
        },
        "id": "qULst_imMLE_",
        "outputId": "7b88d8d3-59f3-4bbf-c9b3-d7d6f78b2cfb"
      },
      "execution_count": null,
      "outputs": [
        {
          "output_type": "execute_result",
          "data": {
            "text/plain": [
              "'sudh'"
            ],
            "application/vnd.google.colaboratory.intrinsic+json": {
              "type": "string"
            }
          },
          "metadata": {},
          "execution_count": 11
        }
      ]
    },
    {
      "cell_type": "code",
      "source": [
        "d3[True]"
      ],
      "metadata": {
        "colab": {
          "base_uri": "https://localhost:8080/"
        },
        "id": "qZX9SdcGMnH1",
        "outputId": "4373b634-81d3-47a5-e1f9-5157d6e5e175"
      },
      "execution_count": null,
      "outputs": [
        {
          "output_type": "execute_result",
          "data": {
            "text/plain": [
              "24345"
            ]
          },
          "metadata": {},
          "execution_count": 12
        }
      ]
    },
    {
      "cell_type": "code",
      "source": [
        "d3[1] # True = 1"
      ],
      "metadata": {
        "colab": {
          "base_uri": "https://localhost:8080/"
        },
        "id": "Yt5vsutAMqmB",
        "outputId": "07499003-14fb-4cd8-f59a-3b96b420f62a"
      },
      "execution_count": null,
      "outputs": [
        {
          "output_type": "execute_result",
          "data": {
            "text/plain": [
              "24345"
            ]
          },
          "metadata": {},
          "execution_count": 13
        }
      ]
    },
    {
      "cell_type": "code",
      "source": [
        "d4 = {\"name\":\"dhee\", \"mail_id\":\"dm@gmail.com\", \"name\": \"dheeraj\"}"
      ],
      "metadata": {
        "id": "_ljkx0yqMvFL"
      },
      "execution_count": null,
      "outputs": []
    },
    {
      "cell_type": "code",
      "source": [
        "d4[\"name\"] # key always should unique , key name same than it overwrite with new key value"
      ],
      "metadata": {
        "colab": {
          "base_uri": "https://localhost:8080/",
          "height": 35
        },
        "id": "l1uy14I7N68j",
        "outputId": "d876c135-1f7d-49a2-f623-db9a993b143e"
      },
      "execution_count": null,
      "outputs": [
        {
          "output_type": "execute_result",
          "data": {
            "text/plain": [
              "'dheeraj'"
            ],
            "application/vnd.google.colaboratory.intrinsic+json": {
              "type": "string"
            }
          },
          "metadata": {},
          "execution_count": 16
        }
      ]
    },
    {
      "cell_type": "code",
      "source": [
        "d5 = {\"company\":\"pwskills\",\"course\":[\"web dev\",\"data science\",\"java with dsa system design\"]}"
      ],
      "metadata": {
        "id": "SCFgRDK4N-RF"
      },
      "execution_count": null,
      "outputs": []
    },
    {
      "cell_type": "code",
      "source": [
        "d5"
      ],
      "metadata": {
        "colab": {
          "base_uri": "https://localhost:8080/"
        },
        "id": "YHUotLkiRagM",
        "outputId": "59126c63-66ae-4a6f-ee34-7c48f85e119d"
      },
      "execution_count": null,
      "outputs": [
        {
          "output_type": "execute_result",
          "data": {
            "text/plain": [
              "{'company': 'pwskills',\n",
              " 'course': ['web dev', 'data science', 'java with dsa system design']}"
            ]
          },
          "metadata": {},
          "execution_count": 20
        }
      ]
    },
    {
      "cell_type": "code",
      "source": [
        "d5[\"course\"]"
      ],
      "metadata": {
        "colab": {
          "base_uri": "https://localhost:8080/"
        },
        "id": "_oJiMtXfRc4I",
        "outputId": "36f40763-639e-4608-dccb-ce9e21f98a25"
      },
      "execution_count": null,
      "outputs": [
        {
          "output_type": "execute_result",
          "data": {
            "text/plain": [
              "['web dev', 'data science', 'java with dsa system design']"
            ]
          },
          "metadata": {},
          "execution_count": 21
        }
      ]
    },
    {
      "cell_type": "code",
      "source": [
        "d5[\"course\"][1]"
      ],
      "metadata": {
        "colab": {
          "base_uri": "https://localhost:8080/",
          "height": 35
        },
        "id": "Wx8HDaI5Rv3q",
        "outputId": "ba3c23b1-4bdc-4fdb-e813-e4b18245bdaf"
      },
      "execution_count": null,
      "outputs": [
        {
          "output_type": "execute_result",
          "data": {
            "text/plain": [
              "'data science'"
            ],
            "application/vnd.google.colaboratory.intrinsic+json": {
              "type": "string"
            }
          },
          "metadata": {},
          "execution_count": 22
        }
      ]
    },
    {
      "cell_type": "code",
      "source": [
        "d5[\"course\"][2]"
      ],
      "metadata": {
        "colab": {
          "base_uri": "https://localhost:8080/",
          "height": 35
        },
        "id": "5R48fY5NSAmE",
        "outputId": "ae3770f1-d970-43bd-d537-551dd1f865d9"
      },
      "execution_count": null,
      "outputs": [
        {
          "output_type": "execute_result",
          "data": {
            "text/plain": [
              "'java with dsa system design'"
            ],
            "application/vnd.google.colaboratory.intrinsic+json": {
              "type": "string"
            }
          },
          "metadata": {},
          "execution_count": 23
        }
      ]
    },
    {
      "cell_type": "code",
      "source": [
        "d5[\"company\"]"
      ],
      "metadata": {
        "colab": {
          "base_uri": "https://localhost:8080/",
          "height": 35
        },
        "id": "T824PKKXSLFp",
        "outputId": "8b284cf2-6d30-4a0a-816d-a8bb3d4a7175"
      },
      "execution_count": null,
      "outputs": [
        {
          "output_type": "execute_result",
          "data": {
            "text/plain": [
              "'pwskills'"
            ],
            "application/vnd.google.colaboratory.intrinsic+json": {
              "type": "string"
            }
          },
          "metadata": {},
          "execution_count": 24
        }
      ]
    },
    {
      "cell_type": "code",
      "source": [
        "d6 = {\"number\": [2,34,45,65],\"assignment\":(1,2,3,4,5,6), \"lunch _date\" :{28,12,14},\"class_time\":{\"web_dev\":8,\"data science masters\":9,\"java with dsa and system design\":7}}"
      ],
      "metadata": {
        "id": "2VSQZypkSN5V"
      },
      "execution_count": null,
      "outputs": []
    },
    {
      "cell_type": "code",
      "source": [
        "d6\n"
      ],
      "metadata": {
        "colab": {
          "base_uri": "https://localhost:8080/"
        },
        "id": "WQhOOtvHUpIU",
        "outputId": "a237bfc4-ee11-4ae6-8696-919206c226ad"
      },
      "execution_count": null,
      "outputs": [
        {
          "output_type": "execute_result",
          "data": {
            "text/plain": [
              "{'number': [2, 34, 45, 65],\n",
              " 'assignment': (1, 2, 3, 4, 5, 6),\n",
              " 'lunch _date': {12, 14, 28},\n",
              " 'class_time': {'web_dev': 8,\n",
              "  'data science masters': 9,\n",
              "  'java with dsa and system design': 7}}"
            ]
          },
          "metadata": {},
          "execution_count": 26
        }
      ]
    },
    {
      "cell_type": "code",
      "source": [
        "d6['class_time'][\"java with dsa and system design\"]"
      ],
      "metadata": {
        "colab": {
          "base_uri": "https://localhost:8080/"
        },
        "id": "bldB8GQJUu4L",
        "outputId": "21492e53-719e-4d84-a0a3-7f0a143f3173"
      },
      "execution_count": null,
      "outputs": [
        {
          "output_type": "execute_result",
          "data": {
            "text/plain": [
              "7"
            ]
          },
          "metadata": {},
          "execution_count": 28
        }
      ]
    },
    {
      "cell_type": "code",
      "source": [
        "d6[\"mentor\"] =[\"sudhanshu\",\"krish\",\"anurag\",\"hayder\"]"
      ],
      "metadata": {
        "id": "qus6zIe8WESW"
      },
      "execution_count": null,
      "outputs": []
    },
    {
      "cell_type": "code",
      "source": [
        "d6"
      ],
      "metadata": {
        "colab": {
          "base_uri": "https://localhost:8080/"
        },
        "id": "bWYdPTzmXLFc",
        "outputId": "ea910752-cccc-4353-9d40-3579d4609f72"
      },
      "execution_count": null,
      "outputs": [
        {
          "output_type": "execute_result",
          "data": {
            "text/plain": [
              "{'number': [2, 34, 45, 65],\n",
              " 'assignment': (1, 2, 3, 4, 5, 6),\n",
              " 'lunch _date': {12, 14, 28},\n",
              " 'class_time': {'web_dev': 8,\n",
              "  'data science masters': 9,\n",
              "  'java with dsa and system design': 7},\n",
              " 'mentor': ['sudhanshu', 'krish', 'anurag', 'hayder']}"
            ]
          },
          "metadata": {},
          "execution_count": 30
        }
      ]
    },
    {
      "cell_type": "code",
      "source": [
        "del d6[\"number\"]"
      ],
      "metadata": {
        "id": "DjjqJXrzXMk1"
      },
      "execution_count": null,
      "outputs": []
    },
    {
      "cell_type": "code",
      "source": [
        "d6"
      ],
      "metadata": {
        "colab": {
          "base_uri": "https://localhost:8080/"
        },
        "id": "OmD3xRI9X8Uv",
        "outputId": "3bbb2ea8-200f-4847-8c7a-fd398e9941b2"
      },
      "execution_count": null,
      "outputs": [
        {
          "output_type": "execute_result",
          "data": {
            "text/plain": [
              "{'assignment': (1, 2, 3, 4, 5, 6),\n",
              " 'lunch _date': {12, 14, 28},\n",
              " 'class_time': {'web_dev': 8,\n",
              "  'data science masters': 9,\n",
              "  'java with dsa and system design': 7},\n",
              " 'mentor': ['sudhanshu', 'krish', 'anurag', 'hayder']}"
            ]
          },
          "metadata": {},
          "execution_count": 32
        }
      ]
    },
    {
      "cell_type": "code",
      "source": [
        "d6.keys()"
      ],
      "metadata": {
        "colab": {
          "base_uri": "https://localhost:8080/"
        },
        "id": "oG43f0UvX9__",
        "outputId": "65d2aac4-1039-4c0b-fe9b-e409351a28c8"
      },
      "execution_count": null,
      "outputs": [
        {
          "output_type": "execute_result",
          "data": {
            "text/plain": [
              "dict_keys(['assignment', 'lunch _date', 'class_time', 'mentor'])"
            ]
          },
          "metadata": {},
          "execution_count": 34
        }
      ]
    },
    {
      "cell_type": "code",
      "source": [
        "list(d6.keys())"
      ],
      "metadata": {
        "colab": {
          "base_uri": "https://localhost:8080/"
        },
        "id": "UIApkA_YYDpi",
        "outputId": "5ba761f7-2fe9-45cb-e661-f55ace752f40"
      },
      "execution_count": null,
      "outputs": [
        {
          "output_type": "execute_result",
          "data": {
            "text/plain": [
              "['assignment', 'lunch _date', 'class_time', 'mentor']"
            ]
          },
          "metadata": {},
          "execution_count": 35
        }
      ]
    },
    {
      "cell_type": "code",
      "source": [
        "d6.values()"
      ],
      "metadata": {
        "colab": {
          "base_uri": "https://localhost:8080/"
        },
        "id": "Uillut9tYpGz",
        "outputId": "4716f4a7-ef5c-4372-ce8a-d01277b8c4cc"
      },
      "execution_count": null,
      "outputs": [
        {
          "output_type": "execute_result",
          "data": {
            "text/plain": [
              "dict_values([(1, 2, 3, 4, 5, 6), {28, 12, 14}, {'web_dev': 8, 'data science masters': 9, 'java with dsa and system design': 7}, ['sudhanshu', 'krish', 'anurag', 'hayder']])"
            ]
          },
          "metadata": {},
          "execution_count": 36
        }
      ]
    },
    {
      "cell_type": "code",
      "source": [
        "list(d6.values())"
      ],
      "metadata": {
        "colab": {
          "base_uri": "https://localhost:8080/"
        },
        "id": "MYE4aEnHYzrm",
        "outputId": "05f0add3-711c-488c-f7ce-24ab20d9a5ae"
      },
      "execution_count": null,
      "outputs": [
        {
          "output_type": "execute_result",
          "data": {
            "text/plain": [
              "[(1, 2, 3, 4, 5, 6),\n",
              " {12, 14, 28},\n",
              " {'web_dev': 8,\n",
              "  'data science masters': 9,\n",
              "  'java with dsa and system design': 7},\n",
              " ['sudhanshu', 'krish', 'anurag', 'hayder']]"
            ]
          },
          "metadata": {},
          "execution_count": 37
        }
      ]
    },
    {
      "cell_type": "code",
      "source": [
        "d6.items()"
      ],
      "metadata": {
        "colab": {
          "base_uri": "https://localhost:8080/"
        },
        "id": "aHWHNeiCY6aL",
        "outputId": "3f44ff7b-aa89-4ccb-d478-bf74559a03d0"
      },
      "execution_count": null,
      "outputs": [
        {
          "output_type": "execute_result",
          "data": {
            "text/plain": [
              "dict_items([('assignment', (1, 2, 3, 4, 5, 6)), ('lunch _date', {28, 12, 14}), ('class_time', {'web_dev': 8, 'data science masters': 9, 'java with dsa and system design': 7}), ('mentor', ['sudhanshu', 'krish', 'anurag', 'hayder'])])"
            ]
          },
          "metadata": {},
          "execution_count": 38
        }
      ]
    },
    {
      "cell_type": "code",
      "source": [
        "list(d6.items())"
      ],
      "metadata": {
        "colab": {
          "base_uri": "https://localhost:8080/"
        },
        "id": "ArIxLlB7ZLDK",
        "outputId": "1ace4c04-67a3-4509-88a9-23164b7ac6cc"
      },
      "execution_count": null,
      "outputs": [
        {
          "output_type": "execute_result",
          "data": {
            "text/plain": [
              "[('assignment', (1, 2, 3, 4, 5, 6)),\n",
              " ('lunch _date', {12, 14, 28}),\n",
              " ('class_time',\n",
              "  {'web_dev': 8,\n",
              "   'data science masters': 9,\n",
              "   'java with dsa and system design': 7}),\n",
              " ('mentor', ['sudhanshu', 'krish', 'anurag', 'hayder'])]"
            ]
          },
          "metadata": {},
          "execution_count": 39
        }
      ]
    },
    {
      "cell_type": "code",
      "source": [
        "d6.pop(\"assignment\")"
      ],
      "metadata": {
        "colab": {
          "base_uri": "https://localhost:8080/"
        },
        "id": "oAkE6zhBZRQJ",
        "outputId": "4f5e3160-78ec-4908-f006-848e140660bc"
      },
      "execution_count": null,
      "outputs": [
        {
          "output_type": "execute_result",
          "data": {
            "text/plain": [
              "(1, 2, 3, 4, 5, 6)"
            ]
          },
          "metadata": {},
          "execution_count": 40
        }
      ]
    },
    {
      "cell_type": "code",
      "source": [
        "d6"
      ],
      "metadata": {
        "colab": {
          "base_uri": "https://localhost:8080/"
        },
        "id": "0Li746Heali8",
        "outputId": "2b49a54e-8572-4612-8770-0fce4caf7b76"
      },
      "execution_count": null,
      "outputs": [
        {
          "output_type": "execute_result",
          "data": {
            "text/plain": [
              "{'lunch _date': {12, 14, 28},\n",
              " 'class_time': {'web_dev': 8,\n",
              "  'data science masters': 9,\n",
              "  'java with dsa and system design': 7},\n",
              " 'mentor': ['sudhanshu', 'krish', 'anurag', 'hayder']}"
            ]
          },
          "metadata": {},
          "execution_count": 42
        }
      ]
    },
    {
      "cell_type": "markdown",
      "source": [
        "control flow statement\n"
      ],
      "metadata": {
        "id": "pkzAXHuTbHyd"
      }
    },
    {
      "cell_type": "code",
      "source": [
        "marks = int(input(\"Enter your marks :\"))\n",
        "if marks >= 80:\n",
        "  print(\"you will a part of A0 batch\")\n",
        "elif marks >= 60 and marks < 80:\n",
        "  print(\"you will a part of A1 batch\")\n",
        "elif marks >= 40 and marks < 60:\n",
        "  print(\"you will a part of A2 batch\")\n",
        "else  :\n",
        "    print(\"you will a part of A3 batch\")"
      ],
      "metadata": {
        "colab": {
          "base_uri": "https://localhost:8080/"
        },
        "id": "z4uNscuIbO4J",
        "outputId": "1367936f-b14f-41e0-922d-17f8bbc66ce8"
      },
      "execution_count": null,
      "outputs": [
        {
          "output_type": "stream",
          "name": "stdout",
          "text": [
            "Enter your marks :60\n",
            "you will a part of A1 batch\n"
          ]
        }
      ]
    },
    {
      "cell_type": "code",
      "source": [
        "marks = input(\"enter your value\")"
      ],
      "metadata": {
        "colab": {
          "base_uri": "https://localhost:8080/"
        },
        "id": "FjhDYaIBI31s",
        "outputId": "66c3f644-047b-49ef-bd13-6fcd338dc40a"
      },
      "execution_count": null,
      "outputs": [
        {
          "name": "stdout",
          "output_type": "stream",
          "text": [
            "enter your value45\n"
          ]
        }
      ]
    },
    {
      "cell_type": "code",
      "source": [
        "type(marks) # without use int in input it always a string"
      ],
      "metadata": {
        "colab": {
          "base_uri": "https://localhost:8080/"
        },
        "id": "G6_IiUHWK-wF",
        "outputId": "1646e800-0efd-4c5a-cc16-d6be328c5907"
      },
      "execution_count": null,
      "outputs": [
        {
          "output_type": "execute_result",
          "data": {
            "text/plain": [
              "int"
            ]
          },
          "metadata": {},
          "execution_count": 13
        }
      ]
    },
    {
      "cell_type": "code",
      "source": [
        "price = int(input(\"enter price \"))\n",
        "if price >1000:\n",
        "  print(\"i will not purchase\")\n",
        "else :\n",
        "   print(\"i will purchase\")"
      ],
      "metadata": {
        "colab": {
          "base_uri": "https://localhost:8080/"
        },
        "id": "Vl6v1kPeLObG",
        "outputId": "47c1df7d-24e5-493b-8a1e-0bf561af6bea"
      },
      "execution_count": null,
      "outputs": [
        {
          "output_type": "stream",
          "name": "stdout",
          "text": [
            "enter price 500\n",
            "i will purchase\n"
          ]
        }
      ]
    },
    {
      "cell_type": "code",
      "source": [
        "price = int(input(\"enter price \"))\n",
        "if price >1000:\n",
        "  print(\"i will not purchase\")\n",
        "  if price >5000:\n",
        "    print(\"this is too much\")\n",
        "  elif price<2000:\n",
        "    print(\"i will purchase\")\n",
        "elif  price < 1000:\n",
        "  print(\"its ok\")\n",
        "else :\n",
        "  print(\"not intrested\")\n",
        "\n"
      ],
      "metadata": {
        "colab": {
          "base_uri": "https://localhost:8080/"
        },
        "id": "-Aa1GYUSOQPY",
        "outputId": "03fa2602-959b-4dc5-aad6-4d2da4f69dd2"
      },
      "execution_count": null,
      "outputs": [
        {
          "output_type": "stream",
          "name": "stdout",
          "text": [
            "enter price 400\n",
            "its ok\n"
          ]
        }
      ]
    },
    {
      "cell_type": "code",
      "source": [
        "l = [1,2,3,3,4,5,6,7,8]\n"
      ],
      "metadata": {
        "id": "x0qVFq00O4d6"
      },
      "execution_count": null,
      "outputs": []
    },
    {
      "cell_type": "code",
      "source": [
        "l1 = []\n",
        "for i in l:\n",
        "  print(i+1)\n",
        "  l1.append(i + 1)"
      ],
      "metadata": {
        "colab": {
          "base_uri": "https://localhost:8080/"
        },
        "id": "THhHVX-oV7kT",
        "outputId": "473cebc9-31bc-46c7-bd5d-2e556b2f2133"
      },
      "execution_count": null,
      "outputs": [
        {
          "output_type": "stream",
          "name": "stdout",
          "text": [
            "2\n",
            "3\n",
            "4\n",
            "4\n",
            "5\n",
            "6\n",
            "7\n",
            "8\n",
            "9\n"
          ]
        }
      ]
    },
    {
      "cell_type": "code",
      "source": [
        "l1"
      ],
      "metadata": {
        "colab": {
          "base_uri": "https://localhost:8080/"
        },
        "id": "oKkdL2geWPsR",
        "outputId": "cb8b0733-c367-42d6-a203-339ce5fe409c"
      },
      "execution_count": null,
      "outputs": [
        {
          "output_type": "execute_result",
          "data": {
            "text/plain": [
              "[2, 3, 4, 4, 5, 6, 7, 8, 9]"
            ]
          },
          "metadata": {},
          "execution_count": 40
        }
      ]
    },
    {
      "cell_type": "code",
      "source": [
        "l\n"
      ],
      "metadata": {
        "colab": {
          "base_uri": "https://localhost:8080/"
        },
        "id": "M8_DRuSrWSaf",
        "outputId": "cf327d11-17a3-4222-f5b9-c9fb271ef945"
      },
      "execution_count": null,
      "outputs": [
        {
          "output_type": "execute_result",
          "data": {
            "text/plain": [
              "[1, 2, 3, 3, 4, 5, 6, 7, 8]"
            ]
          },
          "metadata": {},
          "execution_count": 41
        }
      ]
    },
    {
      "cell_type": "code",
      "source": [
        "l = [\"dheeraj\",\"kumar\",\"pwskills\",\"course\"]"
      ],
      "metadata": {
        "id": "iesKCRP8XJdv"
      },
      "execution_count": null,
      "outputs": []
    },
    {
      "cell_type": "code",
      "source": [
        "l1 = []\n",
        "for i in l:\n",
        "  print(i)\n",
        "  l1.append(i.upper())"
      ],
      "metadata": {
        "colab": {
          "base_uri": "https://localhost:8080/"
        },
        "id": "5zoxKRqnYD5m",
        "outputId": "fc99cf45-6e5f-4639-c279-023915a58b97"
      },
      "execution_count": null,
      "outputs": [
        {
          "output_type": "stream",
          "name": "stdout",
          "text": [
            "dheeraj\n",
            "kumar\n",
            "pwskills\n",
            "course\n"
          ]
        }
      ]
    },
    {
      "cell_type": "code",
      "source": [
        "l1"
      ],
      "metadata": {
        "colab": {
          "base_uri": "https://localhost:8080/"
        },
        "id": "3xQwhXZMY5oZ",
        "outputId": "3b5e8148-71bd-4f83-e465-32e6ac37d979"
      },
      "execution_count": null,
      "outputs": [
        {
          "output_type": "execute_result",
          "data": {
            "text/plain": [
              "['DHEERAJ', 'KUMAR', 'PWSKILLS', 'COURSE']"
            ]
          },
          "metadata": {},
          "execution_count": 52
        }
      ]
    },
    {
      "cell_type": "code",
      "source": [
        "l = [1,2,3,4,5,'dhee',\"kumar\",32.34,45.65,\"abc\"]\n"
      ],
      "metadata": {
        "id": "df-aq_uLZAlx"
      },
      "execution_count": null,
      "outputs": []
    },
    {
      "cell_type": "code",
      "source": [
        "l1_num = []\n",
        "l2_str = []\n",
        "for i in l:\n",
        "  if type(i) == int or type(i) == float :\n",
        "    l1_num.append(i)\n",
        "  else :\n",
        "    l2_str.append(i)\n"
      ],
      "metadata": {
        "id": "zgZimrBF2Ro3"
      },
      "execution_count": null,
      "outputs": []
    },
    {
      "cell_type": "code",
      "source": [
        "l1_num"
      ],
      "metadata": {
        "colab": {
          "base_uri": "https://localhost:8080/"
        },
        "id": "kfRGcudC3lTA",
        "outputId": "546a8a93-6747-4d15-894e-1da5c2193fc1"
      },
      "execution_count": null,
      "outputs": [
        {
          "output_type": "execute_result",
          "data": {
            "text/plain": [
              "[1, 2, 3, 4, 5, 32.34, 45.65]"
            ]
          },
          "metadata": {},
          "execution_count": 3
        }
      ]
    },
    {
      "cell_type": "code",
      "source": [
        "l2_str"
      ],
      "metadata": {
        "colab": {
          "base_uri": "https://localhost:8080/"
        },
        "id": "FJvTWOA-3qkB",
        "outputId": "c8e4f1b3-e8e8-4041-ed16-948214a2be58"
      },
      "execution_count": null,
      "outputs": [
        {
          "output_type": "execute_result",
          "data": {
            "text/plain": [
              "['dhee', 'kumar', 'abc']"
            ]
          },
          "metadata": {},
          "execution_count": 4
        }
      ]
    },
    {
      "cell_type": "code",
      "source": [],
      "metadata": {
        "id": "PvIli0zE3tGw"
      },
      "execution_count": null,
      "outputs": []
    }
  ]
}