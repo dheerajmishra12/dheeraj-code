{
  "nbformat": 4,
  "nbformat_minor": 0,
  "metadata": {
    "colab": {
      "provenance": []
    },
    "kernelspec": {
      "name": "python3",
      "display_name": "Python 3"
    },
    "language_info": {
      "name": "python"
    }
  },
  "cells": [
    {
      "cell_type": "markdown",
      "source": [
        "oops stands for Object oriented programming system"
      ],
      "metadata": {
        "id": "JwQCPeTNS8p-"
      }
    },
    {
      "cell_type": "code",
      "source": [
        "a = 1"
      ],
      "metadata": {
        "id": "wIxJdCgrTJY5"
      },
      "execution_count": null,
      "outputs": []
    },
    {
      "cell_type": "code",
      "execution_count": null,
      "metadata": {
        "colab": {
          "base_uri": "https://localhost:8080/"
        },
        "id": "rnW8C9F_QLbQ",
        "outputId": "bb3da6b3-98bb-4dd8-c787-0155e0bb39fe"
      },
      "outputs": [
        {
          "output_type": "stream",
          "name": "stdout",
          "text": [
            "<class 'int'>\n"
          ]
        }
      ],
      "source": [
        "print(type(a))"
      ]
    },
    {
      "cell_type": "code",
      "source": [
        "print(type(\"dheeraj\"))"
      ],
      "metadata": {
        "colab": {
          "base_uri": "https://localhost:8080/"
        },
        "id": "nwVskLhNTPEf",
        "outputId": "0d474dee-bf98-42bd-e78c-880b72af5f68"
      },
      "execution_count": null,
      "outputs": [
        {
          "output_type": "stream",
          "name": "stdout",
          "text": [
            "<class 'str'>\n"
          ]
        }
      ]
    },
    {
      "cell_type": "code",
      "source": [
        "class test : # class is a blueprint for creating objects.\n",
        "  pass"
      ],
      "metadata": {
        "id": "_3yWvKEnTWvO"
      },
      "execution_count": null,
      "outputs": []
    },
    {
      "cell_type": "code",
      "source": [
        "a = test()"
      ],
      "metadata": {
        "id": "fxg5KANlXBA0"
      },
      "execution_count": null,
      "outputs": []
    },
    {
      "cell_type": "code",
      "source": [
        "type(a)"
      ],
      "metadata": {
        "colab": {
          "base_uri": "https://localhost:8080/"
        },
        "id": "g-47Xsy1XjRr",
        "outputId": "4df9bdd7-d6be-442f-e8b7-b38bfeeba1ca"
      },
      "execution_count": null,
      "outputs": [
        {
          "output_type": "execute_result",
          "data": {
            "text/plain": [
              "__main__.test"
            ]
          },
          "metadata": {},
          "execution_count": 6
        }
      ]
    },
    {
      "cell_type": "code",
      "source": [
        "print(type(a))"
      ],
      "metadata": {
        "colab": {
          "base_uri": "https://localhost:8080/"
        },
        "id": "dtOEK6xnXmGL",
        "outputId": "7f122ac0-dfd1-4266-ba8e-2dffc0edbc54"
      },
      "execution_count": null,
      "outputs": [
        {
          "output_type": "stream",
          "name": "stdout",
          "text": [
            "<class '__main__.test'>\n"
          ]
        }
      ]
    },
    {
      "cell_type": "code",
      "source": [
        "class pwskills :\n",
        "  def welcome_msg(self): # The self keyword is used to refer to the instance of the class. It is used to access the attributes and methods of the class\n",
        "    print(\"welcome to pwkills\")"
      ],
      "metadata": {
        "id": "dkinyS9hXrTO"
      },
      "execution_count": null,
      "outputs": []
    },
    {
      "cell_type": "code",
      "source": [
        "rohan = pwskills()"
      ],
      "metadata": {
        "id": "AoOV_hUfYFCy"
      },
      "execution_count": null,
      "outputs": []
    },
    {
      "cell_type": "code",
      "source": [
        "print(type(rohan))"
      ],
      "metadata": {
        "colab": {
          "base_uri": "https://localhost:8080/"
        },
        "id": "6Rz5y-pzYjwr",
        "outputId": "a094fe0f-e86e-4f31-c138-7a07b5f5d2aa"
      },
      "execution_count": null,
      "outputs": [
        {
          "output_type": "stream",
          "name": "stdout",
          "text": [
            "<class '__main__.pwskills'>\n"
          ]
        }
      ]
    },
    {
      "cell_type": "code",
      "source": [
        "rohan.welcome_msg()"
      ],
      "metadata": {
        "colab": {
          "base_uri": "https://localhost:8080/"
        },
        "id": "qDY_aKTcYol1",
        "outputId": "27a1028d-5370-4d69-a068-6726d42fa451"
      },
      "execution_count": null,
      "outputs": [
        {
          "output_type": "stream",
          "name": "stdout",
          "text": [
            "welcome to pwkills\n"
          ]
        }
      ]
    },
    {
      "cell_type": "code",
      "source": [
        "dheeraj = pwskills()"
      ],
      "metadata": {
        "id": "_jIrbgX-YvJo"
      },
      "execution_count": null,
      "outputs": []
    },
    {
      "cell_type": "code",
      "source": [
        "dheeraj.welcome_msg()"
      ],
      "metadata": {
        "id": "9GXoyLugY-bs",
        "outputId": "b3521430-f1f6-450a-cd91-e34b01dca8aa",
        "colab": {
          "base_uri": "https://localhost:8080/"
        }
      },
      "execution_count": null,
      "outputs": [
        {
          "output_type": "stream",
          "name": "stdout",
          "text": [
            "welcome to pwkills\n"
          ]
        }
      ]
    },
    {
      "cell_type": "code",
      "source": [
        "class pwskills1 :\n",
        "\n",
        "  def __init__(self , phone_number , email_id , student_id ):\n",
        "    self.phone_number = phone_number\n",
        "    self.email_id = email_id\n",
        "    self.student_id = student_id\n",
        "\n",
        "  def return_student_details(self) :\n",
        "    return self.student_id , self.email_id , self.phone_number"
      ],
      "metadata": {
        "id": "xLT-aIrvZCPX"
      },
      "execution_count": null,
      "outputs": []
    },
    {
      "cell_type": "code",
      "source": [
        "dheeraj = pwskills1(8873714003,\"dheeraj@2000\",123)"
      ],
      "metadata": {
        "id": "WlPPHb49jfvX"
      },
      "execution_count": null,
      "outputs": []
    },
    {
      "cell_type": "code",
      "source": [
        "dheeraj.phone_number"
      ],
      "metadata": {
        "colab": {
          "base_uri": "https://localhost:8080/"
        },
        "id": "zEeY6Hacjt_Y",
        "outputId": "07d4a520-cec9-42b3-e659-45b1dbb23510"
      },
      "execution_count": null,
      "outputs": [
        {
          "output_type": "execute_result",
          "data": {
            "text/plain": [
              "8873714003"
            ]
          },
          "metadata": {},
          "execution_count": 9
        }
      ]
    },
    {
      "cell_type": "code",
      "source": [
        "dheeraj.email_id"
      ],
      "metadata": {
        "colab": {
          "base_uri": "https://localhost:8080/",
          "height": 35
        },
        "id": "RU5J4fiVjxnR",
        "outputId": "0e14e69a-67a9-4ad0-da4d-3c1c90bf09e8"
      },
      "execution_count": null,
      "outputs": [
        {
          "output_type": "execute_result",
          "data": {
            "text/plain": [
              "'dheeraj@2000'"
            ],
            "application/vnd.google.colaboratory.intrinsic+json": {
              "type": "string"
            }
          },
          "metadata": {},
          "execution_count": 10
        }
      ]
    },
    {
      "cell_type": "code",
      "source": [
        "dheeraj.return_student_details()"
      ],
      "metadata": {
        "colab": {
          "base_uri": "https://localhost:8080/"
        },
        "id": "xNoLF1yVj-Ng",
        "outputId": "d53255ed-f624-4eab-bbea-4adfe9420e9a"
      },
      "execution_count": null,
      "outputs": [
        {
          "output_type": "execute_result",
          "data": {
            "text/plain": [
              "(123, 'dheeraj@2000', 8873714003)"
            ]
          },
          "metadata": {},
          "execution_count": 11
        }
      ]
    },
    {
      "cell_type": "code",
      "source": [
        "amar = pwskills1(9723456765, \"amar@12345\", 202)"
      ],
      "metadata": {
        "id": "-rsrzAoykouX"
      },
      "execution_count": null,
      "outputs": []
    },
    {
      "cell_type": "code",
      "source": [
        "amar.phone_number"
      ],
      "metadata": {
        "colab": {
          "base_uri": "https://localhost:8080/"
        },
        "id": "oqeHiB3Sn1_n",
        "outputId": "58649e11-90c8-41dc-9ee4-937ed8913a5f"
      },
      "execution_count": null,
      "outputs": [
        {
          "output_type": "execute_result",
          "data": {
            "text/plain": [
              "9723456765"
            ]
          },
          "metadata": {},
          "execution_count": 13
        }
      ]
    },
    {
      "cell_type": "code",
      "source": [
        "amar.return_student_details()"
      ],
      "metadata": {
        "colab": {
          "base_uri": "https://localhost:8080/"
        },
        "id": "hvnZBTg7oDq-",
        "outputId": "e20dba39-305c-449e-a7c0-6b751de513a8"
      },
      "execution_count": null,
      "outputs": [
        {
          "output_type": "execute_result",
          "data": {
            "text/plain": [
              "(202, 'amar@12345', 9723456765)"
            ]
          },
          "metadata": {},
          "execution_count": 15
        }
      ]
    },
    {
      "cell_type": "code",
      "source": [
        "class pwskills2 :\n",
        "\n",
        "  def __init__(self , phone_number , email_id , student_id ):\n",
        "    self.phone_number1 = phone_number\n",
        "    self.email_id1 = email_id\n",
        "    self.student_id1= student_id\n",
        "\n",
        "  def return_student_details(self) :\n",
        "    return self.student_id1 , self.email_id1 , self.phone_number1"
      ],
      "metadata": {
        "id": "CAp9MJD9oHmN"
      },
      "execution_count": null,
      "outputs": []
    },
    {
      "cell_type": "code",
      "source": [
        "dhee = pwskills2(7653453635 , \"dhee@gmail.com\" , 234)"
      ],
      "metadata": {
        "id": "RI105q9TokZ7"
      },
      "execution_count": null,
      "outputs": []
    },
    {
      "cell_type": "code",
      "source": [
        "dhee.student_id1"
      ],
      "metadata": {
        "colab": {
          "base_uri": "https://localhost:8080/"
        },
        "id": "6zGkw_1ao56_",
        "outputId": "4eb9efa9-2c36-46ed-ede9-d816041c0c4e"
      },
      "execution_count": null,
      "outputs": [
        {
          "output_type": "execute_result",
          "data": {
            "text/plain": [
              "234"
            ]
          },
          "metadata": {},
          "execution_count": 18
        }
      ]
    },
    {
      "cell_type": "code",
      "source": [
        "dhee.email_id1"
      ],
      "metadata": {
        "colab": {
          "base_uri": "https://localhost:8080/",
          "height": 35
        },
        "id": "DfiU2wzCo_gr",
        "outputId": "4e78a132-ad14-41a3-8901-56dd3c7a55e3"
      },
      "execution_count": null,
      "outputs": [
        {
          "output_type": "execute_result",
          "data": {
            "text/plain": [
              "'dhee@gmail.com'"
            ],
            "application/vnd.google.colaboratory.intrinsic+json": {
              "type": "string"
            }
          },
          "metadata": {},
          "execution_count": 19
        }
      ]
    },
    {
      "cell_type": "code",
      "source": [
        "dhee.return_student_details()"
      ],
      "metadata": {
        "colab": {
          "base_uri": "https://localhost:8080/"
        },
        "id": "C1tNP-f1pC07",
        "outputId": "fb5ac9a2-db60-41ea-bb05-452a0a3d4d73"
      },
      "execution_count": null,
      "outputs": [
        {
          "output_type": "execute_result",
          "data": {
            "text/plain": [
              "(234, 'dhee@gmail.com', 7653453635)"
            ]
          },
          "metadata": {},
          "execution_count": 20
        }
      ]
    },
    {
      "cell_type": "code",
      "source": [
        "class pwskills2 : # self is not a reserved keyword\n",
        "\n",
        "  def __init__(dhee , phone_number , email_id , student_id) :\n",
        "    dhee.phone_number1 = phone_number\n",
        "    dhee.email_id1 = email_id\n",
        "    dhee.student_id1 = student_id\n",
        "\n",
        "  def return_student_details(dhee) :\n",
        "    return dhee.student_id1 , dhee.email_id1 , dhee.phone_number1"
      ],
      "metadata": {
        "id": "H8-On98NpHae"
      },
      "execution_count": null,
      "outputs": []
    },
    {
      "cell_type": "code",
      "source": [
        "rohan = pwskills2(7465365465, \"mishra@123\" , 456)"
      ],
      "metadata": {
        "id": "6YLibzcAsCdt"
      },
      "execution_count": null,
      "outputs": []
    },
    {
      "cell_type": "code",
      "source": [
        "rohan.student_id1"
      ],
      "metadata": {
        "colab": {
          "base_uri": "https://localhost:8080/"
        },
        "id": "D_uVsRaGsQs_",
        "outputId": "50ffea31-a7e0-47f0-a2b0-1294b89f9acf"
      },
      "execution_count": null,
      "outputs": [
        {
          "output_type": "execute_result",
          "data": {
            "text/plain": [
              "456"
            ]
          },
          "metadata": {},
          "execution_count": 26
        }
      ]
    },
    {
      "cell_type": "code",
      "source": [
        "rohan.phone_number1"
      ],
      "metadata": {
        "colab": {
          "base_uri": "https://localhost:8080/"
        },
        "id": "j2NZEgnFsTfy",
        "outputId": "fc4192f7-b47c-444f-fac9-fb8924fd2051"
      },
      "execution_count": null,
      "outputs": [
        {
          "output_type": "execute_result",
          "data": {
            "text/plain": [
              "7465365465"
            ]
          },
          "metadata": {},
          "execution_count": 27
        }
      ]
    },
    {
      "cell_type": "code",
      "source": [
        "rohan.email_id1"
      ],
      "metadata": {
        "colab": {
          "base_uri": "https://localhost:8080/",
          "height": 35
        },
        "id": "Dcmtj7cKsqw-",
        "outputId": "5882cbb6-5588-48bf-b6f2-d3997296b32c"
      },
      "execution_count": null,
      "outputs": [
        {
          "output_type": "execute_result",
          "data": {
            "text/plain": [
              "'mishra@123'"
            ],
            "application/vnd.google.colaboratory.intrinsic+json": {
              "type": "string"
            }
          },
          "metadata": {},
          "execution_count": 28
        }
      ]
    },
    {
      "cell_type": "code",
      "source": [],
      "metadata": {
        "id": "If1ZLGt4tB_R"
      },
      "execution_count": null,
      "outputs": []
    }
  ]
}