{
  "nbformat": 4,
  "nbformat_minor": 0,
  "metadata": {
    "colab": {
      "provenance": []
    },
    "kernelspec": {
      "name": "python3",
      "display_name": "Python 3"
    },
    "language_info": {
      "name": "python"
    }
  },
  "cells": [
    {
      "cell_type": "markdown",
      "source": [
        "\n",
        "In simple words, we can define polymorphism as the ability of a message to be displayed in more than one form. A real-life example of polymorphism is a person who at the same time can have different characteristics. A man at the same time is a father, a husband, and an employee."
      ],
      "metadata": {
        "id": "xWbFtAbFSv4U"
      }
    },
    {
      "cell_type": "code",
      "source": [
        "def test(a,b):\n",
        "  return a+b"
      ],
      "metadata": {
        "id": "zBceioB5S6bt"
      },
      "execution_count": null,
      "outputs": []
    },
    {
      "cell_type": "code",
      "source": [
        "test(4,5)"
      ],
      "metadata": {
        "colab": {
          "base_uri": "https://localhost:8080/"
        },
        "id": "z8o6Klb3Sys6",
        "outputId": "9fdb92f6-07d3-4338-9f7b-f6fc7dacc709"
      },
      "execution_count": null,
      "outputs": [
        {
          "output_type": "execute_result",
          "data": {
            "text/plain": [
              "9"
            ]
          },
          "metadata": {},
          "execution_count": 2
        }
      ]
    },
    {
      "cell_type": "code",
      "execution_count": null,
      "metadata": {
        "colab": {
          "base_uri": "https://localhost:8080/",
          "height": 35
        },
        "id": "N-heIK6ISUCu",
        "outputId": "65939f77-9273-4b05-d672-3b56a086bbe6"
      },
      "outputs": [
        {
          "output_type": "execute_result",
          "data": {
            "text/plain": [
              "'dhee kumar '"
            ],
            "application/vnd.google.colaboratory.intrinsic+json": {
              "type": "string"
            }
          },
          "metadata": {},
          "execution_count": 4
        }
      ],
      "source": [
        "test(\"dhee \", \"kumar \")"
      ]
    },
    {
      "cell_type": "code",
      "source": [
        "test([3,4,5,6],[32,56,78])"
      ],
      "metadata": {
        "colab": {
          "base_uri": "https://localhost:8080/"
        },
        "id": "NfQ60RkQTPhZ",
        "outputId": "f7b177e7-0905-400d-9645-e0de6a8af4a6"
      },
      "execution_count": null,
      "outputs": [
        {
          "output_type": "execute_result",
          "data": {
            "text/plain": [
              "[3, 4, 5, 6, 32, 56, 78]"
            ]
          },
          "metadata": {},
          "execution_count": 5
        }
      ]
    },
    {
      "cell_type": "code",
      "source": [
        "class data_science :\n",
        "  def syllabus(self):\n",
        "    print(\"This is my syllabus for Data science\")"
      ],
      "metadata": {
        "id": "kmTGY7YeTj6y"
      },
      "execution_count": null,
      "outputs": []
    },
    {
      "cell_type": "code",
      "source": [
        "class web_dev :\n",
        "  def syllabus(self):\n",
        "    print(\"This is my syllabus for web dev\")"
      ],
      "metadata": {
        "id": "dNJWr-4lT_iU"
      },
      "execution_count": null,
      "outputs": []
    },
    {
      "cell_type": "code",
      "source": [
        "def class_parcer(class_obj):\n",
        "  for i in class_obj :\n",
        "    i.syllabus()"
      ],
      "metadata": {
        "id": "JC__2QcIURo-"
      },
      "execution_count": null,
      "outputs": []
    },
    {
      "cell_type": "code",
      "source": [
        "data_science = data_science()"
      ],
      "metadata": {
        "id": "BYzYpJF7Uqx3"
      },
      "execution_count": null,
      "outputs": []
    },
    {
      "cell_type": "code",
      "source": [
        "web_dev = web_dev()"
      ],
      "metadata": {
        "id": "0nHsl170U7fb"
      },
      "execution_count": null,
      "outputs": []
    },
    {
      "cell_type": "code",
      "source": [
        "class_obj = [data_science , web_dev]"
      ],
      "metadata": {
        "id": "HWme5GfFVAwf"
      },
      "execution_count": null,
      "outputs": []
    },
    {
      "cell_type": "code",
      "source": [
        "class_parcer(class_obj)"
      ],
      "metadata": {
        "colab": {
          "base_uri": "https://localhost:8080/"
        },
        "id": "6EolqKWiVW63",
        "outputId": "4a9c01bc-c3a8-440e-8b48-a27b57fa8670"
      },
      "execution_count": null,
      "outputs": [
        {
          "output_type": "stream",
          "name": "stdout",
          "text": [
            "This is my syllabus for Data science\n",
            "This is my syllabus for web dev\n"
          ]
        }
      ]
    },
    {
      "cell_type": "code",
      "source": [
        "class Animal:\n",
        "    def speak(self):\n",
        "        print(\"Animal speaks\")\n",
        "\n",
        "class Dog(Animal):\n",
        "    def speak(self):\n",
        "        print(\"Dog barks\")\n",
        "\n",
        "class Cat(Animal):\n",
        "    def speak(self):\n",
        "        print(\"Cat meows\")\n",
        "\n",
        "# Polymorphism in action\n",
        "animals = [Dog(), Cat()]\n",
        "for animal in animals:\n",
        "    animal.speak()\n"
      ],
      "metadata": {
        "colab": {
          "base_uri": "https://localhost:8080/"
        },
        "id": "tbMqWew8VcTj",
        "outputId": "78b1c26f-7645-4e9a-cd50-f6b3e9989285"
      },
      "execution_count": null,
      "outputs": [
        {
          "output_type": "stream",
          "name": "stdout",
          "text": [
            "Dog barks\n",
            "Cat meows\n"
          ]
        }
      ]
    },
    {
      "cell_type": "code",
      "source": [
        "class Duck:\n",
        "    def fly(self):\n",
        "        print(\"Duck flies\")\n",
        "\n",
        "class Airplane:\n",
        "    def fly(self):\n",
        "        print(\"Airplane flies\")\n",
        "\n",
        "def make_it_fly(obj):\n",
        "    obj.fly()\n",
        "\n",
        "# Polymorphism in action\n",
        "duck = Duck()\n",
        "airplane = Airplane()\n",
        "\n",
        "make_it_fly(duck)\n",
        "make_it_fly(airplane)\n"
      ],
      "metadata": {
        "colab": {
          "base_uri": "https://localhost:8080/"
        },
        "id": "DBfCu1XzVzRB",
        "outputId": "a17e8ab3-f44f-4da5-eeb6-b4345c967c76"
      },
      "execution_count": null,
      "outputs": [
        {
          "output_type": "stream",
          "name": "stdout",
          "text": [
            "Duck flies\n",
            "Airplane flies\n"
          ]
        }
      ]
    }
  ]
}