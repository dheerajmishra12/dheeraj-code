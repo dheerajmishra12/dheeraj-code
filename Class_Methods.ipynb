{
  "nbformat": 4,
  "nbformat_minor": 0,
  "metadata": {
    "colab": {
      "provenance": []
    },
    "kernelspec": {
      "name": "python3",
      "display_name": "Python 3"
    },
    "language_info": {
      "name": "python"
    }
  },
  "cells": [
    {
      "cell_type": "code",
      "execution_count": null,
      "metadata": {
        "id": "itmwesY65G5I"
      },
      "outputs": [],
      "source": [
        "class pwskills :\n",
        "\n",
        "  def __init__(self , name , email) :\n",
        "\n",
        "    self.name = name\n",
        "    self.email = email\n",
        "\n",
        "  def students_details(self):\n",
        "    print(self.name , self.email)"
      ]
    },
    {
      "cell_type": "code",
      "source": [
        "pw = pwskills(\"dheeraj\",\"dheeraj@gmail.com\")"
      ],
      "metadata": {
        "id": "Gaf3w7dA70sX"
      },
      "execution_count": null,
      "outputs": []
    },
    {
      "cell_type": "code",
      "source": [
        "pw.name"
      ],
      "metadata": {
        "colab": {
          "base_uri": "https://localhost:8080/",
          "height": 35
        },
        "id": "V9qcPyuM8FEt",
        "outputId": "7dc86bf7-7cc0-42bb-f0cc-04f297acddab"
      },
      "execution_count": null,
      "outputs": [
        {
          "output_type": "execute_result",
          "data": {
            "text/plain": [
              "'dheeraj'"
            ],
            "application/vnd.google.colaboratory.intrinsic+json": {
              "type": "string"
            }
          },
          "metadata": {},
          "execution_count": 3
        }
      ]
    },
    {
      "cell_type": "code",
      "source": [
        "pw.email"
      ],
      "metadata": {
        "colab": {
          "base_uri": "https://localhost:8080/",
          "height": 35
        },
        "id": "h4ih6aWC8HRM",
        "outputId": "f604f4c5-b62a-4bd5-c804-7eb65bc0d48e"
      },
      "execution_count": null,
      "outputs": [
        {
          "output_type": "execute_result",
          "data": {
            "text/plain": [
              "'dheeraj@gmail.com'"
            ],
            "application/vnd.google.colaboratory.intrinsic+json": {
              "type": "string"
            }
          },
          "metadata": {},
          "execution_count": 4
        }
      ]
    },
    {
      "cell_type": "code",
      "source": [
        "pw.students_details()"
      ],
      "metadata": {
        "colab": {
          "base_uri": "https://localhost:8080/"
        },
        "id": "JvKlo6GD8JlA",
        "outputId": "e5f01957-58c9-4e63-d64f-ef4042102561"
      },
      "execution_count": null,
      "outputs": [
        {
          "output_type": "stream",
          "name": "stdout",
          "text": [
            "dheeraj dheeraj@gmail.com\n"
          ]
        }
      ]
    },
    {
      "cell_type": "code",
      "source": [
        "class pwskills1 :\n",
        "\n",
        "  def __init__(self , name ,email) :\n",
        "\n",
        "    self.name = name\n",
        "    self.email = email\n",
        "\n",
        "  @classmethod\n",
        "  def details(cls , name ,email) :\n",
        "    return cls(name ,email)\n",
        "\n",
        "  def students_details(self):\n",
        "    print(self.name , self.email)"
      ],
      "metadata": {
        "id": "P__rzTpD8M93"
      },
      "execution_count": null,
      "outputs": []
    },
    {
      "cell_type": "code",
      "source": [
        "pw1 = pwskills1.details(\"dhee\" , \"dhee@gmail.com\")"
      ],
      "metadata": {
        "id": "GV8H9_mG9RCb"
      },
      "execution_count": null,
      "outputs": []
    },
    {
      "cell_type": "code",
      "source": [
        "pw1.name"
      ],
      "metadata": {
        "colab": {
          "base_uri": "https://localhost:8080/",
          "height": 35
        },
        "id": "opY5bkd_-SFs",
        "outputId": "6d9a59b7-558e-4c22-f505-7eb314dc23a8"
      },
      "execution_count": null,
      "outputs": [
        {
          "output_type": "execute_result",
          "data": {
            "text/plain": [
              "'dhee'"
            ],
            "application/vnd.google.colaboratory.intrinsic+json": {
              "type": "string"
            }
          },
          "metadata": {},
          "execution_count": 9
        }
      ]
    },
    {
      "cell_type": "code",
      "source": [
        "pw1.email"
      ],
      "metadata": {
        "colab": {
          "base_uri": "https://localhost:8080/",
          "height": 35
        },
        "id": "Fm-7Q9mg-ZfZ",
        "outputId": "c0a22b29-4da7-494d-99f1-8127b6d9b9b5"
      },
      "execution_count": null,
      "outputs": [
        {
          "output_type": "execute_result",
          "data": {
            "text/plain": [
              "'dhee@gmail.com'"
            ],
            "application/vnd.google.colaboratory.intrinsic+json": {
              "type": "string"
            }
          },
          "metadata": {},
          "execution_count": 10
        }
      ]
    },
    {
      "cell_type": "code",
      "source": [
        "pw1.students_details()"
      ],
      "metadata": {
        "colab": {
          "base_uri": "https://localhost:8080/"
        },
        "id": "DihT0rLv-c5J",
        "outputId": "e9cfe17c-6153-465f-a630-01e127e8abd8"
      },
      "execution_count": null,
      "outputs": [
        {
          "output_type": "stream",
          "name": "stdout",
          "text": [
            "dhee dhee@gmail.com\n"
          ]
        }
      ]
    },
    {
      "cell_type": "code",
      "source": [
        "class pwskills2 :\n",
        "\n",
        "  mobile_num = 8873456473\n",
        "\n",
        "  def __init__(self , name , email) :\n",
        "\n",
        "    self.name = name\n",
        "    self.email = email\n",
        "\n",
        "  @classmethod\n",
        "  def change_number(cls , mobile) :\n",
        "    pwskills2.mobile_num = mobile\n",
        "\n",
        "  @classmethod\n",
        "  def details(cls , name , email) :\n",
        "    return cls(name , email)\n",
        "\n",
        "  def students_details(self) :\n",
        "    print(self.name , self.email , pwskills2.mobile_num)"
      ],
      "metadata": {
        "id": "ZgFNMv2h-gGJ"
      },
      "execution_count": null,
      "outputs": []
    },
    {
      "cell_type": "code",
      "source": [
        "pw = pwskills2.details(\"rohan\" , \"rohan@gmail.com\")"
      ],
      "metadata": {
        "id": "V82CqdZUHbB3"
      },
      "execution_count": null,
      "outputs": []
    },
    {
      "cell_type": "code",
      "source": [
        "pw.students_details()"
      ],
      "metadata": {
        "colab": {
          "base_uri": "https://localhost:8080/"
        },
        "id": "mkvNSrBfHzC1",
        "outputId": "35fee8c3-98d6-44e2-8902-e46219a889c4"
      },
      "execution_count": null,
      "outputs": [
        {
          "output_type": "stream",
          "name": "stdout",
          "text": [
            "rohan rohan@gmail.com 8873456473\n"
          ]
        }
      ]
    },
    {
      "cell_type": "code",
      "source": [
        "pw_obj = pwskills2(\"dhee\" , \"dhee@gmail.com\") # by object created"
      ],
      "metadata": {
        "id": "85XtSideH6VG"
      },
      "execution_count": null,
      "outputs": []
    },
    {
      "cell_type": "code",
      "source": [
        "pw_obj.students_details()"
      ],
      "metadata": {
        "colab": {
          "base_uri": "https://localhost:8080/"
        },
        "id": "xUOagWZFIKOt",
        "outputId": "c94fd2a6-83fd-4633-cb23-3a56e868df1f"
      },
      "execution_count": null,
      "outputs": [
        {
          "output_type": "stream",
          "name": "stdout",
          "text": [
            "dhee dhee@gmail.com 8873456473\n"
          ]
        }
      ]
    },
    {
      "cell_type": "code",
      "source": [
        "pwskills2.change_number(8873714003)"
      ],
      "metadata": {
        "id": "nz33k1a0Icfp"
      },
      "execution_count": null,
      "outputs": []
    },
    {
      "cell_type": "code",
      "source": [
        "pwskills2.mobile_num"
      ],
      "metadata": {
        "colab": {
          "base_uri": "https://localhost:8080/"
        },
        "id": "u4MU7rX6Iqqu",
        "outputId": "dbf50672-b1f2-4cea-daaf-4632c9a382f1"
      },
      "execution_count": null,
      "outputs": [
        {
          "output_type": "execute_result",
          "data": {
            "text/plain": [
              "8873714003"
            ]
          },
          "metadata": {},
          "execution_count": 7
        }
      ]
    },
    {
      "cell_type": "code",
      "source": [
        "class pwskills3 :\n",
        "\n",
        "  mobile_num = 8873456473\n",
        "\n",
        "  def __init__(self , name , email) :\n",
        "\n",
        "    self.name = name\n",
        "    self.email = email\n",
        "\n",
        "  @classmethod\n",
        "  def change_number(cls , mobile) :\n",
        "    pwskills2.mobile_num = mobile\n",
        "\n",
        "  @classmethod\n",
        "  def details(cls , name , email) :\n",
        "    return cls(name , email)\n",
        "\n",
        "  def students_details(self) :\n",
        "    print(self.name , self.email , pwskills2.mobile_num)"
      ],
      "metadata": {
        "id": "O3_kKwqVIyKl"
      },
      "execution_count": null,
      "outputs": []
    },
    {
      "cell_type": "code",
      "source": [
        "def course_details(cls , course_name) :\n",
        "  print(\"course name is\" , course_name)"
      ],
      "metadata": {
        "id": "rvTne41sLXZK"
      },
      "execution_count": null,
      "outputs": []
    },
    {
      "cell_type": "code",
      "source": [
        "pwskills3.course_details = classmethod(course_details)"
      ],
      "metadata": {
        "id": "pkvhFJVkL-8u"
      },
      "execution_count": null,
      "outputs": []
    },
    {
      "cell_type": "code",
      "source": [
        "pwskills3.course_details(\"data science masters\")"
      ],
      "metadata": {
        "colab": {
          "base_uri": "https://localhost:8080/"
        },
        "id": "nKgCFKzLML6d",
        "outputId": "b2e43868-d113-49d9-84cb-d5fd8562a32f"
      },
      "execution_count": null,
      "outputs": [
        {
          "output_type": "stream",
          "name": "stdout",
          "text": [
            "course name is data science masters\n"
          ]
        }
      ]
    },
    {
      "cell_type": "code",
      "source": [
        "def mentor(cls , list_of_mentor) :\n",
        "  print(list_of_mentor)"
      ],
      "metadata": {
        "id": "9qW35fX2MhPz"
      },
      "execution_count": null,
      "outputs": []
    },
    {
      "cell_type": "code",
      "source": [
        "pwskills3.mentor = classmethod(mentor)"
      ],
      "metadata": {
        "id": "iaBno1ydM5RG"
      },
      "execution_count": null,
      "outputs": []
    },
    {
      "cell_type": "code",
      "source": [
        "pwskills3.mentor([\"sudhanshu\" , \"krish naik\"])"
      ],
      "metadata": {
        "colab": {
          "base_uri": "https://localhost:8080/"
        },
        "id": "_YzTSR34NAZV",
        "outputId": "fb13744f-26f3-4ee1-e081-effda1e02bb8"
      },
      "execution_count": null,
      "outputs": [
        {
          "output_type": "stream",
          "name": "stdout",
          "text": [
            "['sudhanshu', 'krish naik']\n"
          ]
        }
      ]
    },
    {
      "cell_type": "code",
      "source": [
        "class pwskills4 :\n",
        "\n",
        "  mobile_num = 8873456473\n",
        "\n",
        "  def __init__(self , name , email) :\n",
        "\n",
        "    self.name = name\n",
        "    self.email = email\n",
        "\n",
        "  @classmethod\n",
        "  def change_number(cls , mobile) :\n",
        "    pwskills2.mobile_num = mobile\n",
        "\n",
        "  @classmethod\n",
        "  def details(cls , name , email) :\n",
        "    return cls(name , email)\n",
        "\n",
        "  def students_details(self) :\n",
        "    print(self.name , self.email , pwskills2.mobile_num)"
      ],
      "metadata": {
        "id": "W97Yk2FSNPDa"
      },
      "execution_count": null,
      "outputs": []
    },
    {
      "cell_type": "code",
      "source": [
        "del pwskills4.change_number"
      ],
      "metadata": {
        "id": "8oRTisRiUBuE"
      },
      "execution_count": null,
      "outputs": []
    },
    {
      "cell_type": "code",
      "source": [
        "delattr(pwskills4 , \"details\")"
      ],
      "metadata": {
        "id": "P9huGBcCUO62"
      },
      "execution_count": null,
      "outputs": []
    },
    {
      "cell_type": "code",
      "source": [
        "delattr(pwskills4 , \"students_details\")"
      ],
      "metadata": {
        "id": "n6LmoH09UvZw"
      },
      "execution_count": null,
      "outputs": []
    },
    {
      "cell_type": "code",
      "source": [
        "delattr(pwskills4 , \"mobile_num\")"
      ],
      "metadata": {
        "id": "N0ekGC19U9Nt"
      },
      "execution_count": null,
      "outputs": []
    },
    {
      "cell_type": "code",
      "source": [
        "pwskills4."
      ],
      "metadata": {
        "id": "-8e89dRTVV-g"
      },
      "execution_count": null,
      "outputs": []
    },
    {
      "cell_type": "code",
      "source": [
        "pwskills4.change_number(764563746)"
      ],
      "metadata": {
        "colab": {
          "base_uri": "https://localhost:8080/",
          "height": 141
        },
        "id": "DalnBB-EVdhv",
        "outputId": "823f5221-b99b-4e42-9eb4-82cc7794df76"
      },
      "execution_count": null,
      "outputs": [
        {
          "output_type": "error",
          "ename": "AttributeError",
          "evalue": "type object 'pwskills4' has no attribute 'change_number'",
          "traceback": [
            "\u001b[0;31m---------------------------------------------------------------------------\u001b[0m",
            "\u001b[0;31mAttributeError\u001b[0m                            Traceback (most recent call last)",
            "\u001b[0;32m<ipython-input-28-d183c3124a15>\u001b[0m in \u001b[0;36m<cell line: 1>\u001b[0;34m()\u001b[0m\n\u001b[0;32m----> 1\u001b[0;31m \u001b[0mpwskills4\u001b[0m\u001b[0;34m.\u001b[0m\u001b[0mchange_number\u001b[0m\u001b[0;34m(\u001b[0m\u001b[0;36m764563746\u001b[0m\u001b[0;34m)\u001b[0m\u001b[0;34m\u001b[0m\u001b[0;34m\u001b[0m\u001b[0m\n\u001b[0m",
            "\u001b[0;31mAttributeError\u001b[0m: type object 'pwskills4' has no attribute 'change_number'"
          ]
        }
      ]
    },
    {
      "cell_type": "code",
      "source": [],
      "metadata": {
        "id": "pfslSVoZVaaI"
      },
      "execution_count": null,
      "outputs": []
    }
  ]
}