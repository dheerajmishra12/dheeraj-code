{
  "nbformat": 4,
  "nbformat_minor": 0,
  "metadata": {
    "colab": {
      "provenance": []
    },
    "kernelspec": {
      "name": "python3",
      "display_name": "Python 3"
    },
    "language_info": {
      "name": "python"
    }
  },
  "cells": [
    {
      "cell_type": "code",
      "execution_count": null,
      "metadata": {
        "id": "FfnMXcYa0OIH"
      },
      "outputs": [],
      "source": [
        "data = {\n",
        "    \"name\" : \"dheeraj\" ,\n",
        "    \"mail_id\" : \"dhee@gmail.com\" ,\n",
        "    \"phone_no\" : 8873714003 ,\n",
        "    \"subject\" : [\"data science\" ,\"big data\" ,\"data analytics\"]\n",
        "\n",
        "}"
      ]
    },
    {
      "cell_type": "code",
      "source": [
        "import json # we import json to read dictionary file"
      ],
      "metadata": {
        "id": "QAkw1se5qVDc"
      },
      "execution_count": null,
      "outputs": []
    },
    {
      "cell_type": "code",
      "source": [
        "with open(\"data.json\", \"w\") as f :\n",
        "  json.dump(data , f)\n"
      ],
      "metadata": {
        "id": "RaJnJCrqqf8_"
      },
      "execution_count": null,
      "outputs": []
    },
    {
      "cell_type": "code",
      "source": [
        "with open(\"data.json\" , \"r\" ) as f :\n",
        "  data1 = json.load(f)"
      ],
      "metadata": {
        "id": "lYfGtZAvq77w"
      },
      "execution_count": null,
      "outputs": []
    },
    {
      "cell_type": "code",
      "source": [
        "data1"
      ],
      "metadata": {
        "colab": {
          "base_uri": "https://localhost:8080/"
        },
        "id": "L4cHqm8wrWwC",
        "outputId": "490ff0fa-4af9-451e-ab97-d20c9f530fcb"
      },
      "execution_count": null,
      "outputs": [
        {
          "output_type": "execute_result",
          "data": {
            "text/plain": [
              "{'name': 'dheeraj',\n",
              " 'mail_id': 'dhee@gmail.com',\n",
              " 'phone_no': 8873714003,\n",
              " 'subject': ['data science', 'big data', 'data analytics']}"
            ]
          },
          "metadata": {},
          "execution_count": 5
        }
      ]
    },
    {
      "cell_type": "code",
      "source": [
        "data1[\"subject\"][1]"
      ],
      "metadata": {
        "colab": {
          "base_uri": "https://localhost:8080/",
          "height": 35
        },
        "id": "eCvDdd7OrYI8",
        "outputId": "d58deb93-36b7-474e-cf25-9c38ed836b63"
      },
      "execution_count": null,
      "outputs": [
        {
          "output_type": "execute_result",
          "data": {
            "text/plain": [
              "'big data'"
            ],
            "application/vnd.google.colaboratory.intrinsic+json": {
              "type": "string"
            }
          },
          "metadata": {},
          "execution_count": 7
        }
      ]
    },
    {
      "cell_type": "code",
      "source": [
        "import csv"
      ],
      "metadata": {
        "id": "bZwMYn6urfTW"
      },
      "execution_count": null,
      "outputs": []
    },
    {
      "cell_type": "code",
      "source": [
        "data = [[\"name\", \"email_id\",\"phone_number\"] ,\n",
        "        [\"dheeraj\",\"dhee@gmail.com\", 8874657465],\n",
        "        [\"amar\",\"amar@gmail.com\", 98764564] ,\n",
        "\n",
        "\n",
        "]"
      ],
      "metadata": {
        "id": "Vt-5ZBzute7m"
      },
      "execution_count": null,
      "outputs": []
    },
    {
      "cell_type": "code",
      "source": [
        "with open(\"data.csv\" ,\"w\") as f :\n",
        "  writer = csv.writer(f)\n",
        "\n",
        "  for i in data :\n",
        "    writer.writerow(i)"
      ],
      "metadata": {
        "id": "lbPqQ6uBt_FQ"
      },
      "execution_count": null,
      "outputs": []
    },
    {
      "cell_type": "code",
      "source": [
        "from os import read\n",
        "with open(\"data.csv\" , \"r\") as f :\n",
        "  read_data = csv.reader(f)\n",
        "\n",
        "  for i in read_data :\n",
        "    print(i)"
      ],
      "metadata": {
        "colab": {
          "base_uri": "https://localhost:8080/"
        },
        "id": "hfjlKx_6uaVu",
        "outputId": "112eff4f-9f68-4700-9f23-27b0b7549931"
      },
      "execution_count": null,
      "outputs": [
        {
          "output_type": "stream",
          "name": "stdout",
          "text": [
            "['name', 'email_id', 'phone_number']\n",
            "['dheeraj', 'dhee@gmail.com', '8874657465']\n",
            "['amar', 'amar@gmail.com', '98764564']\n"
          ]
        }
      ]
    },
    {
      "cell_type": "code",
      "source": [
        "with open(\"test4.bin\" , \"wb\") as f :\n",
        "  f.write(b\"\\x01\\x03\\x04\\x343564\")"
      ],
      "metadata": {
        "id": "OmKFVcE4u4mJ"
      },
      "execution_count": null,
      "outputs": []
    },
    {
      "cell_type": "code",
      "source": [
        "with open(\"test4.bin\" , \"rb\") as f :\n",
        "  print(f.read())"
      ],
      "metadata": {
        "colab": {
          "base_uri": "https://localhost:8080/"
        },
        "id": "2l-Adc7CxRC-",
        "outputId": "0fffeb39-9ef3-4199-f6da-18feca384cae"
      },
      "execution_count": null,
      "outputs": [
        {
          "output_type": "stream",
          "name": "stdout",
          "text": [
            "b'\\x01\\x03\\x0443564'\n"
          ]
        }
      ]
    },
    {
      "cell_type": "code",
      "source": [],
      "metadata": {
        "id": "dhRAqdkHxf0X"
      },
      "execution_count": null,
      "outputs": []
    }
  ]
}