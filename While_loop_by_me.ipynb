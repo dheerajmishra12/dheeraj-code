{
  "nbformat": 4,
  "nbformat_minor": 0,
  "metadata": {
    "colab": {
      "provenance": []
    },
    "kernelspec": {
      "name": "python3",
      "display_name": "Python 3"
    },
    "language_info": {
      "name": "python"
    }
  },
  "cells": [
    {
      "cell_type": "code",
      "execution_count": null,
      "metadata": {
        "colab": {
          "base_uri": "https://localhost:8080/"
        },
        "id": "z7Kyad3dnk1O",
        "outputId": "4d2f7f24-07fb-4990-e971-694f64d14c34"
      },
      "outputs": [
        {
          "output_type": "stream",
          "name": "stdout",
          "text": [
            "1\n",
            "2\n",
            "3\n",
            "4\n",
            "5\n",
            "6\n",
            "7\n",
            "8\n",
            "9\n",
            "10\n"
          ]
        }
      ],
      "source": [
        "a = 1\n",
        "\n",
        "while a <= 10 : # while loop first check the condition\n",
        "  print(a)\n",
        "  a = a+1\n"
      ]
    },
    {
      "cell_type": "code",
      "source": [],
      "metadata": {
        "id": "xO6JyKPpq-Ow"
      },
      "execution_count": null,
      "outputs": []
    },
    {
      "cell_type": "markdown",
      "source": [
        "sum of the number till some point"
      ],
      "metadata": {
        "id": "UoOcEK87q_ki"
      }
    },
    {
      "cell_type": "code",
      "source": [
        "n = int(input(\"Enter your limit \"))\n",
        "starting_point= 0\n",
        "counter = 1\n",
        "\n",
        "while counter <= n :\n",
        "  starting_point = starting_point + counter\n",
        "  counter = counter + 1\n",
        "starting_point\n",
        "\n"
      ],
      "metadata": {
        "colab": {
          "base_uri": "https://localhost:8080/"
        },
        "id": "Y3BFwF_ArPt-",
        "outputId": "9a76fdd1-d468-48b9-80cd-3e7d7b277cc8"
      },
      "execution_count": null,
      "outputs": [
        {
          "name": "stdout",
          "output_type": "stream",
          "text": [
            "Enter your limit 10\n"
          ]
        },
        {
          "output_type": "execute_result",
          "data": {
            "text/plain": [
              "55"
            ]
          },
          "metadata": {},
          "execution_count": 4
        }
      ]
    },
    {
      "cell_type": "markdown",
      "source": [
        "Factorial"
      ],
      "metadata": {
        "id": "q2hL2R7uu1DY"
      }
    },
    {
      "cell_type": "code",
      "source": [
        "number = int(input(\"enter your number \"))\n",
        "factorial = 1\n",
        "while number > 0:\n",
        "  factorial = factorial*number\n",
        "  number = number - 1\n",
        "factorial"
      ],
      "metadata": {
        "colab": {
          "base_uri": "https://localhost:8080/"
        },
        "id": "d5Bd88CXu4vR",
        "outputId": "5e9467e5-eb4b-42f5-cb2a-4ea746c1a397"
      },
      "execution_count": null,
      "outputs": [
        {
          "name": "stdout",
          "output_type": "stream",
          "text": [
            "enter your number 5\n"
          ]
        },
        {
          "output_type": "execute_result",
          "data": {
            "text/plain": [
              "120"
            ]
          },
          "metadata": {},
          "execution_count": 7
        }
      ]
    },
    {
      "cell_type": "markdown",
      "source": [
        "Finonacci series"
      ],
      "metadata": {
        "id": "06fh_U9mN2aw"
      }
    },
    {
      "cell_type": "code",
      "source": [
        "number = int(input(\"enter the number of element you are looking for \"))\n",
        "a , b = 0 , 1\n",
        "counter = 0\n",
        "while counter < number :\n",
        "  print(a)\n",
        "  c = a+b\n",
        "  a = b\n",
        "  b = c\n",
        "  counter = counter + 1"
      ],
      "metadata": {
        "colab": {
          "base_uri": "https://localhost:8080/"
        },
        "id": "whwH0bj1N2CA",
        "outputId": "b4f2ccff-9592-4b04-fc64-b42501c503af"
      },
      "execution_count": null,
      "outputs": [
        {
          "output_type": "stream",
          "name": "stdout",
          "text": [
            "enter the number of element you are looking for 6\n",
            "0\n",
            "1\n",
            "1\n",
            "2\n",
            "3\n",
            "5\n"
          ]
        }
      ]
    },
    {
      "cell_type": "markdown",
      "source": [
        "Finonacci series use with for loop"
      ],
      "metadata": {
        "id": "U9SUJl_PQf-z"
      }
    },
    {
      "cell_type": "code",
      "source": [
        "a , b = 0 ,1\n",
        "\n",
        "for i in range(10) :\n",
        "  print(a)\n",
        "  c = a+b\n",
        "  a = b\n",
        "  b = c\n"
      ],
      "metadata": {
        "colab": {
          "base_uri": "https://localhost:8080/"
        },
        "id": "gm91N8WuQm3e",
        "outputId": "478f9aa7-b966-4a67-ece7-5e049f806861"
      },
      "execution_count": null,
      "outputs": [
        {
          "output_type": "stream",
          "name": "stdout",
          "text": [
            "0\n",
            "1\n",
            "1\n",
            "2\n",
            "3\n",
            "5\n",
            "8\n",
            "13\n",
            "21\n",
            "34\n"
          ]
        }
      ]
    },
    {
      "cell_type": "code",
      "source": [
        "d = \"dheeraj\"\n"
      ],
      "metadata": {
        "id": "yYN95fygWdbL"
      },
      "execution_count": null,
      "outputs": []
    },
    {
      "cell_type": "code",
      "source": [
        "d[::-1]"
      ],
      "metadata": {
        "colab": {
          "base_uri": "https://localhost:8080/",
          "height": 35
        },
        "id": "kWqWUC2NWnS5",
        "outputId": "558610af-f23d-4655-ed65-b79eaac706e1"
      },
      "execution_count": null,
      "outputs": [
        {
          "output_type": "execute_result",
          "data": {
            "text/plain": [
              "'jareehd'"
            ],
            "application/vnd.google.colaboratory.intrinsic+json": {
              "type": "string"
            }
          },
          "metadata": {},
          "execution_count": 8
        }
      ]
    },
    {
      "cell_type": "code",
      "source": [
        "len(d)"
      ],
      "metadata": {
        "colab": {
          "base_uri": "https://localhost:8080/"
        },
        "id": "Ai-hTa8vWplI",
        "outputId": "db741c16-262b-4137-b276-5c9a5b72f04a"
      },
      "execution_count": null,
      "outputs": [
        {
          "output_type": "execute_result",
          "data": {
            "text/plain": [
              "7"
            ]
          },
          "metadata": {},
          "execution_count": 9
        }
      ]
    },
    {
      "cell_type": "code",
      "source": [
        "word = input(\"enter your string for reversal \")\n"
      ],
      "metadata": {
        "colab": {
          "base_uri": "https://localhost:8080/"
        },
        "id": "oEWiLTJBWu4G",
        "outputId": "b36879b1-f0c1-4ac5-93c8-71862847507c"
      },
      "execution_count": null,
      "outputs": [
        {
          "name": "stdout",
          "output_type": "stream",
          "text": [
            "enter your string for reversal dheeraj\n"
          ]
        }
      ]
    },
    {
      "cell_type": "code",
      "source": [
        "reverse = \"\"\n",
        "length = len(word)\n",
        "while length > 0 :\n",
        "  reverse = reverse + word[length-1]\n",
        "  length = length - 1\n",
        "print(reverse)"
      ],
      "metadata": {
        "colab": {
          "base_uri": "https://localhost:8080/"
        },
        "id": "BkvFcsrmW-O2",
        "outputId": "a14acf7a-9247-4aeb-bb81-94a463a218bd"
      },
      "execution_count": null,
      "outputs": [
        {
          "output_type": "stream",
          "name": "stdout",
          "text": [
            "jareehd\n"
          ]
        }
      ]
    },
    {
      "cell_type": "code",
      "source": [
        "# print table of number\n"
      ],
      "metadata": {
        "id": "3FtxZnA5XgyE"
      },
      "execution_count": null,
      "outputs": []
    },
    {
      "cell_type": "code",
      "source": [
        "n = int(input(\"enter your number\"))\n",
        "i = 1\n",
        "\n",
        "while i <= 10:\n",
        "  result = n * i\n",
        "  print(n ,\"*\",i ,\"=\" ,result)\n",
        "  i = i+1"
      ],
      "metadata": {
        "colab": {
          "base_uri": "https://localhost:8080/"
        },
        "id": "PxqozLe9ZSC0",
        "outputId": "ebdc7ca4-dceb-4fc7-9154-5f2a70efb4d6"
      },
      "execution_count": null,
      "outputs": [
        {
          "output_type": "stream",
          "name": "stdout",
          "text": [
            "enter your number6\n",
            "6 * 1 = 6\n",
            "6 * 2 = 12\n",
            "6 * 3 = 18\n",
            "6 * 4 = 24\n",
            "6 * 5 = 30\n",
            "6 * 6 = 36\n",
            "6 * 7 = 42\n",
            "6 * 8 = 48\n",
            "6 * 9 = 54\n",
            "6 * 10 = 60\n"
          ]
        }
      ]
    },
    {
      "cell_type": "code",
      "source": [
        "n = 5\n",
        "i = 1\n",
        "while i < n :\n",
        "  print(i)\n",
        "  i = i+1\n",
        "else :\n",
        "  print(\"This will executed once your while will complete it succesfull\")"
      ],
      "metadata": {
        "colab": {
          "base_uri": "https://localhost:8080/"
        },
        "id": "EVr3jNrlZ_xR",
        "outputId": "3ebfc569-cb43-4588-ef1e-76dd9a1998f7"
      },
      "execution_count": null,
      "outputs": [
        {
          "output_type": "stream",
          "name": "stdout",
          "text": [
            "1\n",
            "2\n",
            "3\n",
            "4\n",
            "This will executed once your while will complete it succesfull\n"
          ]
        }
      ]
    },
    {
      "cell_type": "code",
      "source": [],
      "metadata": {
        "id": "I7lsu5sCb0zW"
      },
      "execution_count": null,
      "outputs": []
    },
    {
      "cell_type": "code",
      "source": [
        "n = 5\n",
        "i = 1\n",
        "while i < n :\n",
        "  print(i)\n",
        "  if i == 3 :\n",
        "     break\n",
        "  i = i+1\n",
        "else :\n",
        "  print(\"This will executed once your while will complete it succesfull\")"
      ],
      "metadata": {
        "colab": {
          "base_uri": "https://localhost:8080/"
        },
        "outputId": "f1f9bae8-0637-423d-c527-a7cc2e219cee",
        "id": "yyQsqWhzcbrA"
      },
      "execution_count": null,
      "outputs": [
        {
          "output_type": "stream",
          "name": "stdout",
          "text": [
            "1\n",
            "2\n",
            "3\n"
          ]
        }
      ]
    },
    {
      "cell_type": "code",
      "source": [],
      "metadata": {
        "id": "oUOIMu_VckKh"
      },
      "execution_count": null,
      "outputs": []
    }
  ]
}