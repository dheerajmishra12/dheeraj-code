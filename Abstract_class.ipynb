{
  "nbformat": 4,
  "nbformat_minor": 0,
  "metadata": {
    "colab": {
      "provenance": []
    },
    "kernelspec": {
      "name": "python3",
      "display_name": "Python 3"
    },
    "language_info": {
      "name": "python"
    }
  },
  "cells": [
    {
      "cell_type": "markdown",
      "source": [
        "Abstraction in Python is the process of hiding the real implementation of an application from the user and emphasizing only on usage of it. In Python, we can achieve data abstraction by using abstract classes and abstract classes can be created using abc (abstract base class) module and abstractmethod of abc module."
      ],
      "metadata": {
        "id": "DBehVn42VLOh"
      }
    },
    {
      "cell_type": "code",
      "source": [
        "import abc\n",
        "class pwskills :\n",
        "\n",
        "   @abc.abstractmethod\n",
        "   def students_details(self):\n",
        "      pass\n",
        "\n",
        "   @abc.abstractmethod\n",
        "   def student_assignment(self):\n",
        "     pass\n",
        "\n",
        "   @abc.abstractmethod\n",
        "   def student_marks(self):\n",
        "      pass"
      ],
      "metadata": {
        "id": "lNuVGyG1VsBz"
      },
      "execution_count": null,
      "outputs": []
    },
    {
      "cell_type": "code",
      "execution_count": null,
      "metadata": {
        "id": "IdBCTgDOSx2P"
      },
      "outputs": [],
      "source": [
        "class student_details(pwskills) :\n",
        "\n",
        "  def students_details(self):\n",
        "     return \"this is method for taking students details\"\n",
        "\n",
        "  def  student_assignment(self):\n",
        "     return \"this is a method for assignment details\""
      ]
    },
    {
      "cell_type": "code",
      "source": [
        "class data_science_masters(pwskills):\n",
        "\n",
        "    def students_detials(self):\n",
        "        return \"this will return a student details for data science masters \"\n",
        "\n",
        "    def student_assignemnt(self):\n",
        "        return \"this will give you a studnt assignment detaild for data science masters \""
      ],
      "metadata": {
        "id": "cxrZgjlkXr83"
      },
      "execution_count": null,
      "outputs": []
    },
    {
      "cell_type": "code",
      "source": [
        "dsm = data_science_masters()"
      ],
      "metadata": {
        "id": "UUpj9sTSYA6q"
      },
      "execution_count": null,
      "outputs": []
    },
    {
      "cell_type": "code",
      "source": [
        "dsm.students_detials()"
      ],
      "metadata": {
        "colab": {
          "base_uri": "https://localhost:8080/",
          "height": 35
        },
        "id": "gO91wHyXYWTT",
        "outputId": "4ad3f2a2-6270-49d3-bb37-ea7d666d2dd6"
      },
      "execution_count": null,
      "outputs": [
        {
          "output_type": "execute_result",
          "data": {
            "text/plain": [
              "'this will return a student details for data science masters '"
            ],
            "application/vnd.google.colaboratory.intrinsic+json": {
              "type": "string"
            }
          },
          "metadata": {},
          "execution_count": 15
        }
      ]
    },
    {
      "cell_type": "code",
      "source": [
        "sd = student_details()"
      ],
      "metadata": {
        "id": "l4kVHGmQYj7F"
      },
      "execution_count": null,
      "outputs": []
    },
    {
      "cell_type": "code",
      "source": [
        "sd.students_details()"
      ],
      "metadata": {
        "colab": {
          "base_uri": "https://localhost:8080/",
          "height": 35
        },
        "id": "5qbJ8P31Y768",
        "outputId": "89ea088d-3cd1-4c0f-b459-a2ff27070a39"
      },
      "execution_count": null,
      "outputs": [
        {
          "output_type": "execute_result",
          "data": {
            "text/plain": [
              "'this is method for taking students details'"
            ],
            "application/vnd.google.colaboratory.intrinsic+json": {
              "type": "string"
            }
          },
          "metadata": {},
          "execution_count": 17
        }
      ]
    },
    {
      "cell_type": "code",
      "source": [],
      "metadata": {
        "id": "x2DIXtzsZD9L"
      },
      "execution_count": null,
      "outputs": []
    }
  ]
}