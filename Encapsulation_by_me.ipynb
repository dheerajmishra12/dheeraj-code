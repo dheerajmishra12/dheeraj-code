{
  "nbformat": 4,
  "nbformat_minor": 0,
  "metadata": {
    "colab": {
      "provenance": []
    },
    "kernelspec": {
      "name": "python3",
      "display_name": "Python 3"
    },
    "language_info": {
      "name": "python"
    }
  },
  "cells": [
    {
      "cell_type": "markdown",
      "source": [
        "Encapsulation is one of the fundamental concepts in object-oriented programming. It is the process of wrapping data and methods into a single unit, called a class. This bundling of data and methods helps to protect the data from being modified directly, and it also provides a clear interface for accessing and manipulating the data."
      ],
      "metadata": {
        "id": "8uEX0Cp7wrnU"
      }
    },
    {
      "cell_type": "code",
      "source": [
        "class test :\n",
        "\n",
        "  def __init__(self ,a ,b):\n",
        "      self.a = a\n",
        "      self.b = b\n",
        "\n",
        ""
      ],
      "metadata": {
        "id": "l_cMNo-Twt3J"
      },
      "execution_count": 1,
      "outputs": []
    },
    {
      "cell_type": "code",
      "execution_count": 2,
      "metadata": {
        "id": "Wzb0alxgmED-"
      },
      "outputs": [],
      "source": [
        "t = test(23,24)"
      ]
    },
    {
      "cell_type": "code",
      "source": [
        "t.a = 34234"
      ],
      "metadata": {
        "id": "rrBVlqH1xTY0"
      },
      "execution_count": 6,
      "outputs": []
    },
    {
      "cell_type": "code",
      "source": [
        "t.a"
      ],
      "metadata": {
        "colab": {
          "base_uri": "https://localhost:8080/"
        },
        "id": "kBaDXwfnxUzx",
        "outputId": "26107050-3599-447c-ce03-a7db56487cad"
      },
      "execution_count": 7,
      "outputs": [
        {
          "output_type": "execute_result",
          "data": {
            "text/plain": [
              "34234"
            ]
          },
          "metadata": {},
          "execution_count": 7
        }
      ]
    },
    {
      "cell_type": "code",
      "source": [
        "class car :\n",
        "  def __init__(self , year , make , model , speed):\n",
        "\n",
        "    self.__year = year # here __ double underscore used for encapsulate or hide the data from user\n",
        "    self.__make = make\n",
        "    self.__model = model\n",
        "    self.__speed = 0\n",
        "\n",
        "  def set_speed(self,speed) :\n",
        "    self.__speed = 0 if speed < 0 else speed\n",
        "\n",
        "  def get_speed(self):\n",
        "    return self.__speed"
      ],
      "metadata": {
        "id": "nDHph54mxkaC"
      },
      "execution_count": 9,
      "outputs": []
    },
    {
      "cell_type": "code",
      "source": [
        "c = car(2024 ,\"toyata\",\"innona\",12)"
      ],
      "metadata": {
        "id": "eLsLspt6zK_B"
      },
      "execution_count": 10,
      "outputs": []
    },
    {
      "cell_type": "code",
      "source": [
        "c._car__year"
      ],
      "metadata": {
        "colab": {
          "base_uri": "https://localhost:8080/"
        },
        "id": "DBX5IQVNze0c",
        "outputId": "d4b9bf62-b037-48a1-e6f5-4f807508fd50"
      },
      "execution_count": 11,
      "outputs": [
        {
          "output_type": "execute_result",
          "data": {
            "text/plain": [
              "2024"
            ]
          },
          "metadata": {},
          "execution_count": 11
        }
      ]
    },
    {
      "cell_type": "code",
      "source": [
        "c.set_speed(-234)"
      ],
      "metadata": {
        "id": "0khInuHlzmOh"
      },
      "execution_count": 12,
      "outputs": []
    },
    {
      "cell_type": "code",
      "source": [
        "c.get_speed()"
      ],
      "metadata": {
        "colab": {
          "base_uri": "https://localhost:8080/"
        },
        "id": "Y9Ws6V-Mzs3G",
        "outputId": "9165a4e1-ba5d-4b12-d7e0-2d68fbeef626"
      },
      "execution_count": 13,
      "outputs": [
        {
          "output_type": "execute_result",
          "data": {
            "text/plain": [
              "0"
            ]
          },
          "metadata": {},
          "execution_count": 13
        }
      ]
    },
    {
      "cell_type": "code",
      "source": [
        "c.set_speed(342)"
      ],
      "metadata": {
        "id": "WqUmR_3IzzGH"
      },
      "execution_count": 14,
      "outputs": []
    },
    {
      "cell_type": "code",
      "source": [
        "c.get_speed()"
      ],
      "metadata": {
        "colab": {
          "base_uri": "https://localhost:8080/"
        },
        "id": "bgyzMS21z-bM",
        "outputId": "451d72cb-049a-4991-e856-ff3b43dce418"
      },
      "execution_count": 15,
      "outputs": [
        {
          "output_type": "execute_result",
          "data": {
            "text/plain": [
              "342"
            ]
          },
          "metadata": {},
          "execution_count": 15
        }
      ]
    },
    {
      "cell_type": "code",
      "source": [
        "c._car__model"
      ],
      "metadata": {
        "colab": {
          "base_uri": "https://localhost:8080/",
          "height": 35
        },
        "id": "XkF4icve0L2H",
        "outputId": "96c41178-6066-43fb-a72c-f428e018cde2"
      },
      "execution_count": 20,
      "outputs": [
        {
          "output_type": "execute_result",
          "data": {
            "text/plain": [
              "'innona'"
            ],
            "application/vnd.google.colaboratory.intrinsic+json": {
              "type": "string"
            }
          },
          "metadata": {},
          "execution_count": 20
        }
      ]
    },
    {
      "cell_type": "code",
      "source": [
        "class bank_account :\n",
        "  def __init__(self , balance) :\n",
        "    self.__balance = balance\n",
        "\n",
        "  def  deposit(self , amount):\n",
        "    self.__balance = self.__balance + amount\n",
        "\n",
        "  def withdraw(self , amount):\n",
        "    if self.__balance >= amount :\n",
        "      self.__balance = self.__balance - amount\n",
        "      return True\n",
        "    else :\n",
        "      return False\n",
        "\n",
        "  def get_balance(self) :\n",
        "    return self.__balance"
      ],
      "metadata": {
        "id": "h7gDDmHJ1JKz"
      },
      "execution_count": 21,
      "outputs": []
    },
    {
      "cell_type": "code",
      "source": [
        "dheeraj = bank_account(1000)"
      ],
      "metadata": {
        "id": "rKTDYz0_82bg"
      },
      "execution_count": 22,
      "outputs": []
    },
    {
      "cell_type": "code",
      "source": [
        "dheeraj.get_balance()"
      ],
      "metadata": {
        "colab": {
          "base_uri": "https://localhost:8080/"
        },
        "id": "1nmk6yZD88j1",
        "outputId": "f26c1d5f-45c1-48a1-fbfb-da17131d601e"
      },
      "execution_count": 23,
      "outputs": [
        {
          "output_type": "execute_result",
          "data": {
            "text/plain": [
              "1000"
            ]
          },
          "metadata": {},
          "execution_count": 23
        }
      ]
    },
    {
      "cell_type": "code",
      "source": [
        "dheeraj.deposit(5000)"
      ],
      "metadata": {
        "id": "eJATVvKP9AiS"
      },
      "execution_count": 24,
      "outputs": []
    },
    {
      "cell_type": "code",
      "source": [
        "dheeraj.get_balance()"
      ],
      "metadata": {
        "colab": {
          "base_uri": "https://localhost:8080/"
        },
        "id": "OJVhXeHx9Hqg",
        "outputId": "2bb64cd0-683f-4d0a-a929-d0b2cef161a3"
      },
      "execution_count": 25,
      "outputs": [
        {
          "output_type": "execute_result",
          "data": {
            "text/plain": [
              "6000"
            ]
          },
          "metadata": {},
          "execution_count": 25
        }
      ]
    },
    {
      "cell_type": "code",
      "source": [
        "dheeraj.deposit(3000)"
      ],
      "metadata": {
        "id": "iqJQbbUl9LR7"
      },
      "execution_count": 26,
      "outputs": []
    },
    {
      "cell_type": "code",
      "source": [
        "dheeraj.get_balance()"
      ],
      "metadata": {
        "colab": {
          "base_uri": "https://localhost:8080/"
        },
        "id": "31hfyxju9TkO",
        "outputId": "401104af-d755-4897-b8a4-2c0c6bebb205"
      },
      "execution_count": 27,
      "outputs": [
        {
          "output_type": "execute_result",
          "data": {
            "text/plain": [
              "9000"
            ]
          },
          "metadata": {},
          "execution_count": 27
        }
      ]
    },
    {
      "cell_type": "code",
      "source": [
        "dheeraj.withdraw(10000)"
      ],
      "metadata": {
        "colab": {
          "base_uri": "https://localhost:8080/"
        },
        "id": "erR-T5Do9WbM",
        "outputId": "26d5537d-95df-465c-ad07-fdc99a3036bd"
      },
      "execution_count": 28,
      "outputs": [
        {
          "output_type": "execute_result",
          "data": {
            "text/plain": [
              "False"
            ]
          },
          "metadata": {},
          "execution_count": 28
        }
      ]
    },
    {
      "cell_type": "code",
      "source": [
        "dheeraj.withdraw(3000)"
      ],
      "metadata": {
        "colab": {
          "base_uri": "https://localhost:8080/"
        },
        "id": "0QNxS_cO9d0O",
        "outputId": "2ecd97c5-3413-43fa-c6fe-ed3e038ba497"
      },
      "execution_count": 29,
      "outputs": [
        {
          "output_type": "execute_result",
          "data": {
            "text/plain": [
              "True"
            ]
          },
          "metadata": {},
          "execution_count": 29
        }
      ]
    },
    {
      "cell_type": "code",
      "source": [
        "dheeraj.get_balance()"
      ],
      "metadata": {
        "colab": {
          "base_uri": "https://localhost:8080/"
        },
        "id": "-PDfEKsI9jLy",
        "outputId": "5844ec45-80b3-46c2-fc25-cea6fe799bdc"
      },
      "execution_count": 30,
      "outputs": [
        {
          "output_type": "execute_result",
          "data": {
            "text/plain": [
              "6000"
            ]
          },
          "metadata": {},
          "execution_count": 30
        }
      ]
    },
    {
      "cell_type": "code",
      "source": [],
      "metadata": {
        "id": "66ljUnmH9m5E"
      },
      "execution_count": null,
      "outputs": []
    }
  ]
}