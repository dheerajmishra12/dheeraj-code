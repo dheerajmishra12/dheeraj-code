{
  "cells": [
    {
      "cell_type": "code",
      "execution_count": null,
      "id": "6b9946b9-5f62-4f1d-af51-49b65f3e3163",
      "metadata": {
        "id": "6b9946b9-5f62-4f1d-af51-49b65f3e3163",
        "outputId": "88429dbd-0625-49b3-879f-078135ff89a7"
      },
      "outputs": [
        {
          "name": "stdout",
          "output_type": "stream",
          "text": [
            "division by zero\n"
          ]
        }
      ],
      "source": [
        "#use always a specific exception\n",
        "try :\n",
        "    10/0\n",
        "except Exception as e :\n",
        "    print(e)"
      ]
    },
    {
      "cell_type": "code",
      "execution_count": null,
      "id": "d725b2d9-637f-4ba8-96e2-2adfc03b6ec3",
      "metadata": {
        "id": "d725b2d9-637f-4ba8-96e2-2adfc03b6ec3",
        "outputId": "5e9e589a-2aa1-492b-c649-6b09d575c5d2"
      },
      "outputs": [
        {
          "name": "stdout",
          "output_type": "stream",
          "text": [
            "division by zero\n"
          ]
        }
      ],
      "source": [
        "try :\n",
        "    10/0\n",
        "except ZeroDivisionError as e :\n",
        "    print(e)"
      ]
    },
    {
      "cell_type": "code",
      "execution_count": null,
      "id": "67485885-c689-4821-b886-a75295606699",
      "metadata": {
        "id": "67485885-c689-4821-b886-a75295606699",
        "outputId": "f82a37e3-2edd-402e-a518-50bb5a9d209a"
      },
      "outputs": [
        {
          "name": "stdout",
          "output_type": "stream",
          "text": [
            "i am trying to handle a zerodivision error division by zero\n"
          ]
        }
      ],
      "source": [
        "#print always a proper message\n",
        "try :\n",
        "    10/0\n",
        "except ZeroDivisionError as e :\n",
        "    print(\"i am trying to handle a zerodivision error\"  , e)"
      ]
    },
    {
      "cell_type": "code",
      "execution_count": null,
      "id": "d3484103-d648-46c9-9fcf-023cf44c00e7",
      "metadata": {
        "id": "d3484103-d648-46c9-9fcf-023cf44c00e7"
      },
      "outputs": [],
      "source": [
        "#always try to log your error\n",
        "import logging\n",
        "logging.basicConfig(filename = \"error.log\" , level = logging.ERROR)\n",
        "try :\n",
        "    10/0\n",
        "except ZeroDivisionError as e :\n",
        "    logging.error(\"i am trying to handle a zerodivision error {} \".format(e) )"
      ]
    },
    {
      "cell_type": "code",
      "execution_count": null,
      "id": "3aeb4196-66a4-4e06-88e7-e11311d8abc4",
      "metadata": {
        "id": "3aeb4196-66a4-4e06-88e7-e11311d8abc4"
      },
      "outputs": [],
      "source": [
        "#alwyas avoid to write a multiple exception handling\n",
        "try :\n",
        "    10/0\n",
        "except FileNotFoundError as e :\n",
        "    logging.error(\"i am handling file not found  {} \".format(e) )\n",
        "except AttributeError as e :\n",
        "    logging.error(\"i am handling Attribute erro  {} \".format(e) )\n",
        "except ZeroDivisionError as e :\n",
        "    logging.error(\"i am trying to handle a zerodivision error {} \".format(e) )"
      ]
    },
    {
      "cell_type": "code",
      "execution_count": null,
      "id": "46cbdea1-2788-4022-9a7c-0f081dd5c5e4",
      "metadata": {
        "id": "46cbdea1-2788-4022-9a7c-0f081dd5c5e4"
      },
      "outputs": [],
      "source": [
        "#Document all the error\n",
        "#cleanup all the resources\n",
        "try :\n",
        "    with open(\"test.txt\" , 'w') as f :\n",
        "        f.write(\"this is my data to file \" )\n",
        "except FileNotFoundError as e :\n",
        "    logging.error(\"i am handling file not found  {} \".format(e) )\n",
        "finally :\n",
        "    f.close()"
      ]
    },
    {
      "cell_type": "code",
      "execution_count": null,
      "id": "4e724889-fef0-41e7-a377-e64ea9537613",
      "metadata": {
        "id": "4e724889-fef0-41e7-a377-e64ea9537613"
      },
      "outputs": [],
      "source": []
    }
  ],
  "metadata": {
    "kernelspec": {
      "display_name": "Python 3 (ipykernel)",
      "language": "python",
      "name": "python3"
    },
    "language_info": {
      "codemirror_mode": {
        "name": "ipython",
        "version": 3
      },
      "file_extension": ".py",
      "mimetype": "text/x-python",
      "name": "python",
      "nbconvert_exporter": "python",
      "pygments_lexer": "ipython3",
      "version": "3.10.8"
    },
    "colab": {
      "provenance": []
    }
  },
  "nbformat": 4,
  "nbformat_minor": 5
}