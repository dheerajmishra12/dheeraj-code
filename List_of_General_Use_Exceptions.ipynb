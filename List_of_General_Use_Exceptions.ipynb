{
  "nbformat": 4,
  "nbformat_minor": 0,
  "metadata": {
    "colab": {
      "provenance": []
    },
    "kernelspec": {
      "name": "python3",
      "display_name": "Python 3"
    },
    "language_info": {
      "name": "python"
    }
  },
  "cells": [
    {
      "cell_type": "code",
      "execution_count": null,
      "metadata": {
        "colab": {
          "base_uri": "https://localhost:8080/"
        },
        "id": "RTcU50ga5miD",
        "outputId": "4d025c4c-b52e-43e2-db77-de2d44a852dc"
      },
      "outputs": [
        {
          "output_type": "stream",
          "name": "stdout",
          "text": [
            "division by zero\n"
          ]
        }
      ],
      "source": [
        "try :\n",
        "   a= 10/0\n",
        "except ZeroDivisionError as e :\n",
        "  print(e)"
      ]
    },
    {
      "cell_type": "code",
      "source": [
        "try :\n",
        "   int(\"dhee\")\n",
        "except (ValueError , TypeError) as e :\n",
        "  print(e)"
      ],
      "metadata": {
        "colab": {
          "base_uri": "https://localhost:8080/"
        },
        "id": "0la8O1WF79bD",
        "outputId": "13e82778-1024-4cf8-ffba-6449a8f7ec11"
      },
      "execution_count": null,
      "outputs": [
        {
          "output_type": "stream",
          "name": "stdout",
          "text": [
            "invalid literal for int() with base 10: 'dhee'\n"
          ]
        }
      ]
    },
    {
      "cell_type": "code",
      "source": [
        "try :\n",
        "  int(\"dhee\")\n",
        "except :\n",
        "  print(\"this will catch an error\")"
      ],
      "metadata": {
        "colab": {
          "base_uri": "https://localhost:8080/"
        },
        "id": "oRfDNZDA8RTz",
        "outputId": "b612a9b5-4aba-4241-8e7f-5dba1ce50959"
      },
      "execution_count": null,
      "outputs": [
        {
          "output_type": "stream",
          "name": "stdout",
          "text": [
            "this will catch an error\n"
          ]
        }
      ]
    },
    {
      "cell_type": "code",
      "source": [
        "try :\n",
        "  import dhee\n",
        "except ImportError as e :\n",
        "  print(e)\n",
        "10/4"
      ],
      "metadata": {
        "colab": {
          "base_uri": "https://localhost:8080/"
        },
        "id": "1sUeOzSo8l0m",
        "outputId": "5282a515-9e4f-43fc-f1ce-f3c65f881b7d"
      },
      "execution_count": null,
      "outputs": [
        {
          "output_type": "stream",
          "name": "stdout",
          "text": [
            "No module named 'dhee'\n"
          ]
        },
        {
          "output_type": "execute_result",
          "data": {
            "text/plain": [
              "2.5"
            ]
          },
          "metadata": {},
          "execution_count": 6
        }
      ]
    },
    {
      "cell_type": "code",
      "source": [
        "try :\n",
        "    d = {\"key\" :\"dhee\" , 1 : [2,3,4,5]}\n",
        "    print(d[\"key2\"])\n",
        "except KeyError as e :\n",
        "    print(e)"
      ],
      "metadata": {
        "colab": {
          "base_uri": "https://localhost:8080/"
        },
        "id": "EaqlWGT8835w",
        "outputId": "b5287245-d7e6-4b1d-9dd2-b52df4090e8e"
      },
      "execution_count": null,
      "outputs": [
        {
          "output_type": "stream",
          "name": "stdout",
          "text": [
            "'key2'\n"
          ]
        }
      ]
    },
    {
      "cell_type": "code",
      "source": [
        "try :\n",
        "   \"dhee\".test()\n",
        "except AttributeError as e :\n",
        "   print(e)"
      ],
      "metadata": {
        "colab": {
          "base_uri": "https://localhost:8080/"
        },
        "id": "SKL5a-j39IF_",
        "outputId": "526ce0fd-df2f-45ff-af32-40f920179f81"
      },
      "execution_count": null,
      "outputs": [
        {
          "output_type": "stream",
          "name": "stdout",
          "text": [
            "'str' object has no attribute 'test'\n"
          ]
        }
      ]
    },
    {
      "cell_type": "code",
      "source": [
        "try :\n",
        "  l = [2,3,4,5]\n",
        "  print(l[6])\n",
        "except IndexError as e :\n",
        "  print(e)"
      ],
      "metadata": {
        "colab": {
          "base_uri": "https://localhost:8080/"
        },
        "id": "KSLvymPk9Yal",
        "outputId": "98de9dfa-05c2-42d8-aba7-8bcb74446b37"
      },
      "execution_count": null,
      "outputs": [
        {
          "output_type": "stream",
          "name": "stdout",
          "text": [
            "list index out of range\n"
          ]
        }
      ]
    },
    {
      "cell_type": "code",
      "source": [
        "try :\n",
        "  123 + \"dhee\"\n",
        "except TypeError as e :\n",
        "  print(e)"
      ],
      "metadata": {
        "colab": {
          "base_uri": "https://localhost:8080/"
        },
        "id": "eS5j6kId_kY5",
        "outputId": "910c52db-f217-416e-b37a-f812f1cc6b47"
      },
      "execution_count": null,
      "outputs": [
        {
          "output_type": "stream",
          "name": "stdout",
          "text": [
            "unsupported operand type(s) for +: 'int' and 'str'\n"
          ]
        }
      ]
    },
    {
      "cell_type": "code",
      "source": [
        "try :\n",
        "  with open(\"test.txt\" , \"r\" ) as f :\n",
        "     test= f.read()\n",
        "except FileNotFoundError as e :\n",
        "   print(e)"
      ],
      "metadata": {
        "colab": {
          "base_uri": "https://localhost:8080/"
        },
        "id": "cOUk6dmZ_3ef",
        "outputId": "ddaf1725-2518-4568-fb2e-985d7e6687d1"
      },
      "execution_count": null,
      "outputs": [
        {
          "output_type": "stream",
          "name": "stdout",
          "text": [
            "[Errno 2] No such file or directory: 'test.txt'\n"
          ]
        }
      ]
    },
    {
      "cell_type": "code",
      "source": [
        "try : #Dont write Exeption function above the other error file\n",
        "    with open(\"test.txt\" , 'r') as f :\n",
        "        test = f.read()\n",
        "except Exception as e :\n",
        "    print(e)\n",
        "except FileNotFoundError as e :\n",
        "    print(\"test \" , e)"
      ],
      "metadata": {
        "colab": {
          "base_uri": "https://localhost:8080/"
        },
        "id": "Agy-6rAbANo_",
        "outputId": "3ae5253e-169d-4d16-cbbd-ffd7cdf6cf50"
      },
      "execution_count": null,
      "outputs": [
        {
          "output_type": "stream",
          "name": "stdout",
          "text": [
            "[Errno 2] No such file or directory: 'test.txt'\n"
          ]
        }
      ]
    },
    {
      "cell_type": "code",
      "source": [
        "def test(file) :\n",
        "  try :\n",
        "     with open(file , \"r\") as f :\n",
        "         test = f.read()\n",
        "  except Exception as e :\n",
        "     print(e)\n",
        "  except FileNotFoundError as e :\n",
        "     print(\"test\" ,e)\n"
      ],
      "metadata": {
        "id": "1kYvWwWzAZki"
      },
      "execution_count": null,
      "outputs": []
    },
    {
      "cell_type": "code",
      "source": [],
      "metadata": {
        "id": "ZoF8MMzDGPJX"
      },
      "execution_count": null,
      "outputs": []
    },
    {
      "cell_type": "markdown",
      "source": [],
      "metadata": {
        "id": "RVK5zmapGQag"
      }
    }
  ]
}